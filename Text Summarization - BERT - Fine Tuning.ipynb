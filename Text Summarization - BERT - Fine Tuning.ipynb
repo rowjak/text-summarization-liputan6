{
 "cells": [
  {
   "cell_type": "code",
   "execution_count": 106,
   "outputs": [
    {
     "name": "stderr",
     "output_type": "stream",
     "text": [
      "[nltk_data] Downloading package stopwords to\n",
      "[nltk_data]     C:\\Users\\Rowjak\\AppData\\Roaming\\nltk_data...\n",
      "[nltk_data]   Package stopwords is already up-to-date!\n",
      "[nltk_data] Downloading package punkt to\n",
      "[nltk_data]     C:\\Users\\Rowjak\\AppData\\Roaming\\nltk_data...\n",
      "[nltk_data]   Package punkt is already up-to-date!\n"
     ]
    }
   ],
   "source": [
    "import datasets\n",
    "from datasets import load_dataset\n",
    "import pandas as pd\n",
    "import nltk\n",
    "import seaborn as sns\n",
    "import os\n",
    "import matplotlib.pyplot as plt\n",
    "import json\n",
    "import re\n",
    "import numpy as np\n",
    "from wordcloud import WordCloud\n",
    "\n",
    "nltk.download('stopwords')\n",
    "nltk.download('punkt')\n",
    "from nltk.corpus import stopwords\n",
    "stop_words = set('indonesian') "
   ],
   "metadata": {
    "collapsed": false,
    "ExecuteTime": {
     "end_time": "2024-10-08T01:33:30.775361600Z",
     "start_time": "2024-10-08T01:33:29.052129Z"
    }
   },
   "id": "d547f534281d48e7"
  },
  {
   "cell_type": "code",
   "execution_count": 107,
   "outputs": [],
   "source": [
    "path = os.getcwd()"
   ],
   "metadata": {
    "collapsed": false,
    "ExecuteTime": {
     "end_time": "2024-10-08T01:33:31.931013700Z",
     "start_time": "2024-10-08T01:33:31.898148900Z"
    }
   },
   "id": "78cb5aea89c0bc47"
  },
  {
   "cell_type": "code",
   "execution_count": 108,
   "outputs": [],
   "source": [
    "df_train = pd.read_parquet(os.path.join(path, \"dataset/train_combined.parquet\"))"
   ],
   "metadata": {
    "collapsed": false,
    "ExecuteTime": {
     "end_time": "2024-10-08T01:44:48.205547700Z",
     "start_time": "2024-10-08T01:44:34.930660Z"
    }
   },
   "id": "ac6a9820649a44ef"
  },
  {
   "cell_type": "code",
   "execution_count": 109,
   "outputs": [],
   "source": [
    "df_train_sample = pd.read_parquet(os.path.join(path, \"dataset/train_sample_combined.parquet\"))\n",
    "df_xtreme_dev = pd.read_parquet(os.path.join(path, \"dataset/xtreme_dev_combined.parquet\"))\n",
    "df_xtreme_test = pd.read_parquet(os.path.join(path, \"dataset/xtreme_test_combined.parquet\"))"
   ],
   "metadata": {
    "collapsed": false,
    "ExecuteTime": {
     "end_time": "2024-10-08T01:44:51.257138700Z",
     "start_time": "2024-10-08T01:44:48.209549400Z"
    }
   },
   "id": "21b0ca03b98158f1"
  },
  {
   "cell_type": "code",
   "execution_count": 121,
   "outputs": [
    {
     "name": "stdout",
     "output_type": "stream",
     "text": [
      "<class 'pandas.core.frame.DataFrame'>\n",
      "Index: 38777 entries, 42855 to 90081\n",
      "Data columns (total 5 columns):\n",
      " #   Column              Non-Null Count  Dtype \n",
      "---  ------              --------------  ----- \n",
      " 0   id                  38777 non-null  int64 \n",
      " 1   url                 38777 non-null  object\n",
      " 2   clean_article       38777 non-null  object\n",
      " 3   clean_summary       38777 non-null  object\n",
      " 4   extractive_summary  38777 non-null  object\n",
      "dtypes: int64(1), object(4)\n",
      "memory usage: 1.8+ MB\n"
     ]
    }
   ],
   "source": [
    "df_train_sample.info()"
   ],
   "metadata": {
    "collapsed": false,
    "ExecuteTime": {
     "end_time": "2024-10-08T02:00:32.667453400Z",
     "start_time": "2024-10-08T02:00:32.527603200Z"
    }
   },
   "id": "fc4e05c3b394d4ab"
  },
  {
   "cell_type": "code",
   "execution_count": 124,
   "outputs": [],
   "source": [
    "df_test = pd.read_parquet(os.path.join(path, \"dataset/test_combined.parquet\"))"
   ],
   "metadata": {
    "collapsed": false,
    "ExecuteTime": {
     "end_time": "2024-10-08T02:03:57.404060400Z",
     "start_time": "2024-10-08T02:03:56.688700900Z"
    }
   },
   "id": "a3a69914c9baead0"
  },
  {
   "cell_type": "code",
   "execution_count": 146,
   "outputs": [],
   "source": [
    "def extract_article(sentences):\n",
    "    # Gabungkan array kata-kata menjadi kalimat\n",
    "    text = ' '.join([' '.join(sentence) for sentence in sentences])\n",
    "    # Hilangkan spasi sebelum tanda baca seperti .,;:!?()\n",
    "    text = re.sub(r'\\s+([.,:;!?()])', r'\\1', text)\n",
    "    # Hilangkan spasi setelah tanda baca '.' jika huruf setelahnya kecil\n",
    "    text = re.sub(r'\\.\\s+([a-z])', r'.\\1', text)\n",
    "    \n",
    "    text = re.sub(r'\\(\\s+', '(', text)  # Hilangkan spasi setelah '('\n",
    "    text = re.sub(r'\\s+\\)', ')', text)  # Hilangkan spasi sebelum ')'\n",
    "    \n",
    "    text = re.sub(r'\\[\\s+', '[', text)  # Hilangkan spasi setelah '['\n",
    "    text = re.sub(r'\\s+\\]', ']', text)  # Hilangkan spasi sebelum ']'\n",
    "    \n",
    "    return text"
   ],
   "metadata": {
    "collapsed": false,
    "ExecuteTime": {
     "end_time": "2024-10-08T02:18:03.913952100Z",
     "start_time": "2024-10-08T02:18:03.798682600Z"
    }
   },
   "id": "bd0a4ef4f527b57a"
  },
  {
   "cell_type": "code",
   "execution_count": 155,
   "outputs": [],
   "source": [
    "df_used = df_test"
   ],
   "metadata": {
    "collapsed": false,
    "ExecuteTime": {
     "end_time": "2024-10-08T02:25:18.148939300Z",
     "start_time": "2024-10-08T02:25:18.114307700Z"
    }
   },
   "id": "9fb3056ea8296a04"
  },
  {
   "cell_type": "code",
   "execution_count": 156,
   "outputs": [],
   "source": [
    "df_used['ext_clean_article'] = df_used['clean_article'].apply(extract_article)\n",
    "df_used['ext_clean_summary'] = df_used['clean_summary'].apply(extract_article)"
   ],
   "metadata": {
    "collapsed": false,
    "ExecuteTime": {
     "end_time": "2024-10-08T02:25:21.628256100Z",
     "start_time": "2024-10-08T02:25:18.964029200Z"
    }
   },
   "id": "fdb7b7fc5dd6e535"
  },
  {
   "cell_type": "code",
   "execution_count": 157,
   "outputs": [],
   "source": [
    "def extract_sentences_from_index(clean_article, extractive_summary):\n",
    "    return [clean_article[i] for i in extractive_summary]"
   ],
   "metadata": {
    "collapsed": false,
    "ExecuteTime": {
     "end_time": "2024-10-08T02:25:22.512922800Z",
     "start_time": "2024-10-08T02:25:22.466600100Z"
    }
   },
   "id": "d3955f718e94ce54"
  },
  {
   "cell_type": "code",
   "execution_count": 158,
   "outputs": [],
   "source": [
    "df_used['extractive_summary_sentences'] = df_used.apply(lambda row: extract_sentences_from_index(row['clean_article'], row['extractive_summary']), axis=1)"
   ],
   "metadata": {
    "collapsed": false,
    "ExecuteTime": {
     "end_time": "2024-10-08T02:25:23.490532100Z",
     "start_time": "2024-10-08T02:25:23.199987200Z"
    }
   },
   "id": "70e59dbdecc77b8c"
  },
  {
   "cell_type": "code",
   "execution_count": 159,
   "outputs": [],
   "source": [
    "df_used['ext_extractive_summary'] = df_used['extractive_summary_sentences'].apply(extract_article)"
   ],
   "metadata": {
    "collapsed": false,
    "ExecuteTime": {
     "end_time": "2024-10-08T02:25:25.447129100Z",
     "start_time": "2024-10-08T02:25:24.490399900Z"
    }
   },
   "id": "951eb8a1887e3035"
  },
  {
   "cell_type": "code",
   "execution_count": 168,
   "outputs": [],
   "source": [
    "def preprocessing_article(text):\n",
    "    # ubah semua menjadi huruf kecil\n",
    "    text = text.lower()\n",
    "    \n",
    "    # hilangkan teks yang memiliki tanda kurun () dan []\n",
    "    text = re.sub(r'\\(.*?\\)', '', text)\n",
    "    text = re.sub(r'\\[.*?\\]', '', text)\n",
    "    \n",
    "    # hilangkan awalan liputan6.com kemudian setelah itu tanda :\n",
    "    text = re.sub(r'^liputan6\\.com, [^:]+: ', '', text)\n",
    "    \n",
    "    # hilangkan semua tanda baca\n",
    "    text = re.sub(r'[^\\w\\s]', '', text)\n",
    "    \n",
    "    # hilangkan spasi berlebih\n",
    "    text = re.sub(r'\\s+', ' ', text).strip()\n",
    "    \n",
    "    return text"
   ],
   "metadata": {
    "collapsed": false,
    "ExecuteTime": {
     "end_time": "2024-10-08T02:31:21.782849Z",
     "start_time": "2024-10-08T02:31:21.566485100Z"
    }
   },
   "id": "47fbaa3ddeab58e3"
  },
  {
   "cell_type": "code",
   "execution_count": 171,
   "outputs": [],
   "source": [
    "df_used['prep_clean_article'] = df_used['ext_clean_article'].apply(preprocessing_article)\n",
    "df_used['prep_clean_summary'] = df_used['ext_clean_summary'].apply(preprocessing_article)"
   ],
   "metadata": {
    "collapsed": false,
    "ExecuteTime": {
     "end_time": "2024-10-08T02:31:51.312050100Z",
     "start_time": "2024-10-08T02:31:49.201643600Z"
    }
   },
   "id": "2dfb10f6c14f8263"
  },
  {
   "cell_type": "code",
   "execution_count": 172,
   "outputs": [
    {
     "name": "stdout",
     "output_type": "stream",
     "text": [
      "1.Index: 5959\n",
      "2.Url:\n",
      " https://www.liputan6.com/news/read/20289/dihadang-massa--gedung-sekolah-korea-batal-dieksekusi\n",
      "3.1.Clean Article:\n",
      " Liputan6.com, Jakarta: Petugas juru sita Pengadilan Negeri Jakarta Timur batal mengeksekusi Gedung Sekolah Korea di Kelurahan Ceger, Cipayung, Rabu(19/9). Pasalnya, pemilik sekolah tersebut menghalanginya dengan mengerahkan massa. Untuk menghindari bentrokan fisik, jajaran Kepolisian Sektor Cipayung menyarankan petugas eksekutor PN Jaktim mengurungkan niatnya. Kuasa hukum Sekolah Korea, Iqbal Salim mengatakan, kliennya mempunyai sertifikat sah atas tanah dan bangunan tersebut. Iqbal menjelaskan, tanah seluas delapan ribu meter persegi itu dibeli dari seorang di antara ahli warisnya. Namun belakangan hari, penjualan tanah tersebut mendapat gugatan dari ahli waris yang lainnya.(ANS/Gaby Getal dan Ary Trisna).\n",
      "3.2.Prep Clean Article:\n",
      " petugas juru sita pengadilan negeri jakarta timur batal mengeksekusi gedung sekolah korea di kelurahan ceger cipayung rabu pasalnya pemilik sekolah tersebut menghalanginya dengan mengerahkan massa untuk menghindari bentrokan fisik jajaran kepolisian sektor cipayung menyarankan petugas eksekutor pn jaktim mengurungkan niatnya kuasa hukum sekolah korea iqbal salim mengatakan kliennya mempunyai sertifikat sah atas tanah dan bangunan tersebut iqbal menjelaskan tanah seluas delapan ribu meter persegi itu dibeli dari seorang di antara ahli warisnya namun belakangan hari penjualan tanah tersebut mendapat gugatan dari ahli waris yang lainnya\n",
      "4.1.Clean Summary:\n",
      " Eksekusi terhadap Gedung Sekolah Korea di Kelurahan Cengger, Cipayung, Jakarta Timur, batal terlaksana. Pemilik sekolah mengerahkan massa untuk menghalanginya.\n",
      "4.2.Prep Clean Summary:\n",
      " eksekusi terhadap gedung sekolah korea di kelurahan cengger cipayung jakarta timur batal terlaksana pemilik sekolah mengerahkan massa untuk menghalanginya\n",
      "5.Extractive Summary:\n",
      " Liputan6.com, Jakarta: Petugas juru sita Pengadilan Negeri Jakarta Timur batal mengeksekusi Gedung Sekolah Korea di Kelurahan Ceger, Cipayung, Rabu(19/9). Pasalnya, pemilik sekolah tersebut menghalanginya dengan mengerahkan massa.\n",
      "----------------------------------------------------------------------------------------------------\n",
      "1.Index: 7152\n",
      "2.Url:\n",
      " https://www.liputan6.com/news/read/21824/as-diminta-lebih-bijaksana\n",
      "3.1.Clean Article:\n",
      " Liputan6.com, Lhokseumawe: Pemerintah Amerika Serikat diminta tak bertindak ceroboh dan bersifat kekanak-kanakan untuk dapat dihargai masyarakat dunia. Soalnya, sampai kini, negeri Paman Sam itu tak pernah berlaku bijaksana dalam menyikapi sesuatu masalah. Ibaratnya, mereka seperti anak besar yang mempunyai kekuatan besar dan banyak uang, namun tak memiliki kebijaksanan. Hal itu dikemukakan Duta Besar Irak Sadoon Al-Zubaydi dalam menanggapi serangan AS ke kawasan selatan dan utara Irak dalam memberantas terorisme di Lhokseumawe, Aceh, Ahad(14/10). Menurut Al-Zubaydi, AS telah menyerang Irak sejak sebelas tahun yang silam. Serangan itu dinilai sekadar untuk menunjukkan jati diri mereka kepada Irak. \" Mereka ingin menunjukkan bahwa mereka kuat, \" kata Al-Zubaydi. Kini, Al-Zubaydi mengatakan, tindakan yang sama tengah dilakukan AS kepada Afghanistan.(ORS/Arfan Yap Bano dan Irfan Effendi).\n",
      "3.2.Prep Clean Article:\n",
      " pemerintah amerika serikat diminta tak bertindak ceroboh dan bersifat kekanakkanakan untuk dapat dihargai masyarakat dunia soalnya sampai kini negeri paman sam itu tak pernah berlaku bijaksana dalam menyikapi sesuatu masalah ibaratnya mereka seperti anak besar yang mempunyai kekuatan besar dan banyak uang namun tak memiliki kebijaksanan hal itu dikemukakan duta besar irak sadoon alzubaydi dalam menanggapi serangan as ke kawasan selatan dan utara irak dalam memberantas terorisme di lhokseumawe aceh ahad menurut alzubaydi as telah menyerang irak sejak sebelas tahun yang silam serangan itu dinilai sekadar untuk menunjukkan jati diri mereka kepada irak mereka ingin menunjukkan bahwa mereka kuat kata alzubaydi kini alzubaydi mengatakan tindakan yang sama tengah dilakukan as kepada afghanistan\n",
      "4.1.Clean Summary:\n",
      " Amerika Serikat diminta tak bertindak ceroboh dan bersifat seperti anak kecil. Ibarat anak besar, AS yang mempunyai kekutaan besar dan banyak uang.\n",
      "4.2.Prep Clean Summary:\n",
      " amerika serikat diminta tak bertindak ceroboh dan bersifat seperti anak kecil ibarat anak besar as yang mempunyai kekutaan besar dan banyak uang\n",
      "5.Extractive Summary:\n",
      " Liputan6.com, Lhokseumawe: Pemerintah Amerika Serikat diminta tak bertindak ceroboh dan bersifat kekanak-kanakan untuk dapat dihargai masyarakat dunia. Ibaratnya, mereka seperti anak besar yang mempunyai kekuatan besar dan banyak uang, namun tak memiliki kebijaksanan.\n",
      "----------------------------------------------------------------------------------------------------\n",
      "1.Index: 2793\n",
      "2.Url:\n",
      " https://www.liputan6.com/news/read/16396/diusulkan--mekanisme-baru-kenaikan-tarif-telepon\n",
      "3.1.Clean Article:\n",
      " Liputan6.com, Jakarta: Permasalahan kenaikan tarif telepon baru masih berlanjut. Masyarakat Telematika(Mastel) menilai, alternatif kenaikan tarif telepon yang diusulkan pemerintah masih membebani masyarakat. Soalnya, pilihan itu justru membuat masyarakat sulit menghitung kenaikan tarif yang diterima. Hal itu dikemukakan anggota Mastel Mas Wigrantoro di Jakarta. Menurut Mas, pemerintah telah mengajukan dua alternatif tentang kenaikan tarif telepon itu, yakni amendemen terhadap keputusan menteri yang ditunda pelaksanaannya dan pemberlakuan kenaikan tarif secara merata sebesar 21, 67 persen. Bagi Mastel, alternatif pertama akan membebani masyarakat. Sedangkan yang kedua akan membebani PT Telkom, lantaran ada perbedaan biaya produksi untuk tarif lokal dan sambungan langsung jarak jauh. Oleh karena itu, jelas Mas, Mastel mengusulkan alternatif ketiga yang tak membebani masyarakat sekaligus menguntungkan Telkom. Mas menambahkan, penundaan tarif telepon mesti dilakukan menyusul keberatan sejumlah kalangan mengenai mekanisme kenaikan yang diajukan pemerintah yang mencapai hingga 2. 000 persen. Pasalnya, usulan pemerintah itu tak sesuai dengan kesepakatan antara PT Telkom dengan DPR, yakni sebesar 21, 67 persen. Atas dasar itulah Telkom tengah mengkaji kembali mekanisme kenaikan tarif telepon dan akan menampung sejumlah masukan dari berbagai kalangan masyarakat [baca: Penetapan Tarif Telepon Dikaji Ulang].(ORS/Olivia Rosalia dan Bambang Triyono).\n",
      "3.2.Prep Clean Article:\n",
      " permasalahan kenaikan tarif telepon baru masih berlanjut masyarakat telematika menilai alternatif kenaikan tarif telepon yang diusulkan pemerintah masih membebani masyarakat soalnya pilihan itu justru membuat masyarakat sulit menghitung kenaikan tarif yang diterima hal itu dikemukakan anggota mastel mas wigrantoro di jakarta menurut mas pemerintah telah mengajukan dua alternatif tentang kenaikan tarif telepon itu yakni amendemen terhadap keputusan menteri yang ditunda pelaksanaannya dan pemberlakuan kenaikan tarif secara merata sebesar 21 67 persen bagi mastel alternatif pertama akan membebani masyarakat sedangkan yang kedua akan membebani pt telkom lantaran ada perbedaan biaya produksi untuk tarif lokal dan sambungan langsung jarak jauh oleh karena itu jelas mas mastel mengusulkan alternatif ketiga yang tak membebani masyarakat sekaligus menguntungkan telkom mas menambahkan penundaan tarif telepon mesti dilakukan menyusul keberatan sejumlah kalangan mengenai mekanisme kenaikan yang diajukan pemerintah yang mencapai hingga 2 000 persen pasalnya usulan pemerintah itu tak sesuai dengan kesepakatan antara pt telkom dengan dpr yakni sebesar 21 67 persen atas dasar itulah telkom tengah mengkaji kembali mekanisme kenaikan tarif telepon dan akan menampung sejumlah masukan dari berbagai kalangan masyarakat\n",
      "4.1.Clean Summary:\n",
      " Masyarakat Telematika menilai dua alternatif pemerintah mengenai kenaikan tarif telepon memberatkan masyarakat. Alternatif ketiga diusulkan dengan saling menguntungkan antara masyarakat dengan Telkom.\n",
      "4.2.Prep Clean Summary:\n",
      " masyarakat telematika menilai dua alternatif pemerintah mengenai kenaikan tarif telepon memberatkan masyarakat alternatif ketiga diusulkan dengan saling menguntungkan antara masyarakat dengan telkom\n",
      "5.Extractive Summary:\n",
      " Masyarakat Telematika(Mastel) menilai, alternatif kenaikan tarif telepon yang diusulkan pemerintah masih membebani masyarakat. Oleh karena itu, jelas Mas, Mastel mengusulkan alternatif ketiga yang tak membebani masyarakat sekaligus menguntungkan Telkom.\n",
      "----------------------------------------------------------------------------------------------------\n",
      "1.Index: 8891\n",
      "2.Url:\n",
      " https://www.liputan6.com/news/read/23971/al-chaidar--kekerasan-bukan-jalan-keluar\n",
      "3.1.Clean Article:\n",
      " Liputan6.com, Jakarta: Tiga faksi Darul Islam memiliki hubungan yang sangat personal dengan anggota militer. Kerja sama itu berdasarkan pesanan. \" Itu yang ingin kita putuskan, supaya tidak terjadi pengeboman, \" ujar aktivis Darul Islam Al Chaidar saat berbincang dengan presenter SCTV Rosianna Silalahi, Ahad(18/11) petang. Dia menyatakan bisa membantu kepolisian mengungkap kasus peledakan di Gereja Petra dan Australian International School awal November silam. Kepolisian juga berencana memeriksa Al Chaidar dalam waktu dekat [baca: Al-Chaidar Akan Diperiksa]. Pria kelahiran Lhokseumawe, Nanggroe Aceh Darussalam, 22 November 1969 ini berpendapat setiap perilaku kekerasan harus dihentikan. \" Apa yang kita teliti tak ada yang salah, \" kata Al Chaidar. Bekas Ketua Aksi Sejuta Ummat 1 Mei 2001 di Lapangan Monumen Nasional, Jakarta, ini mengungkapkan telah melakukan penelitian pada 1991 hingga 1998 mengenai keterlibatan anggota DI nakal pada sejumlah aksi kekerasan. Mereka diduga kuat menjadi pelaku pengeboman 18 gereja di malam Natal 2000. Al Chaidar mengatakan penelitian itu bukan mencari para pelaku yang diperkirakan telah kabur ke luar negeri seperti ke Afghanistan atau Chechen. \" Paling penting secara preventif mengajak pemerintah melakukan perjanjian perdamaian dengan mereka, \" kata dia. Al Chaidar menyatakan kesetujuan jika polisi menangkap pelaku tindak kekerasan. Al Chaidar mengungkapkan tiga faksi DI terlibat pada dua peristiwa peledakan bom itu [baca: Ledakan di Sekolah Australia dari Granat Antipersonel]. [baca: Bom Meledak di Gereja Petra Jakarta Utara]. Menurut alumnus jurusan Ilmu Politik Fakultas Ilmu Sosial dan Ilmu Politik Universitas Indonesia ini, pembeberan hal itu karena dia tak ingin polisi melakukan kesalahan dalam penyelidikan. Pria berdahi lebar ini mengatakan DI terdiri dari 14 faksi dan antarfaksi memiliki hubungan tradisional. Aktivis Muslim yang telah menulis 18 buku tentang pergerakan Islam radikal di Indonesia itu mengatakan ia tidak bisa menyebutkan nama tiga faksi itu karena nama faksi sama dengan nama imam. Dia mengkategorikan anggota faksi yang melakukan peledakan sebagai anggota yang nakal karena tidak mematuhi imamnya. Pria yang aktif menulis di berbagai media massa dan jumal ilmiah itu berpendapat tindak kekerasan sangat merusak citra DI. \" Kita perlu menghentikan aksi itu karena kekerasan bukan jalan keluar, \" kata dia. Bekas Ketua Lingkaran Studi Creative Minority(LSCM) itu menyesalkan tindakan polisi yang menggerebek kantor DI di Jalan Batu I No 26A Gang Arab, Pejaten Timur, Jakarta Selatan, 7 September silam. Menurut dia, tindakan polisi itu tidak memiliki alasan kuat. \" Seharusnya polisi bisa memilah pergerakan yang bersifat kekerasan dan nonkekerasan, \" kata dia. Ketua Rakyat Aceh Serantau(RAS) ini tak sependapat pengungkapan hal itu mendiskreditkan DI. Dia beralasan ini hanya upaya untuk mengubah perilaku mereka agar tidak melakukan aksi-aksi yang bersifat kekerasan. Dia menyangkal kemungkinan bentrokan antarfaksi yang menyebabkannya membuka suara. \" Nggak juga, kami sudah lama membuka, cuma saja pers belum begitu memperhatikan, \" ujar dia. Al Chaidar membantah tindak kekerasan yang melibatkan anggota DI untuk mendongkrak reputasi organisasi islam itu. Menurut dia, mereka tak pernah memikirkan reputasi karena nama baik DI sudah sangat buruk. Buku-buku sejarah di Tanah Air, kata dia, telah meluluhlantakkan para tokoh yang disebut pemberontak dan pengkhianat bangsa. Mantan anggota Indonesia Student Association for International Studies(ISAFIS) ini mengakui tindak kekerasan anggota DI nakal sebagai bagian gambaran perjuangan islam. \" Ketika keadaan memaksa dan tak ada jalan lain, mereka bisa menggunakan kekerasan, \" kata bekas anggota Redaktur Pelaksana jurnal mahasiswa Ilmu Politik dan Sosial FISIP UI ini. Pada kesempatan terpisah, pengurus yayasan Mahad az-Zaitun di Indramayu, Jawa Barat membantah keterlibatan mereka pada kegiatan DI. Dua orang pengurus yayasan, Kyai Jafar Subani dan Haji Sarwani berpendapat aksi peledakan bom di sejumlah tempat ibadah dan tempat-tempat keramaian lain di Jakarta adalah perbuatan yang sangat bertentangan dengan ajaran Islam. Haji Sarwani mengaku sama sekali tidak mengetahui tiga faksi DI. Dia juga mengatakan secara pribadi tidak mengenal Al Chaidar. Jika Al Chaidar mengaku mengenal para pengurus yayasan, Sarwani dan Kyai Jafar menyatakan hal itu adalah hak setiap muslim. Menurut mereka, yayasan yang mengelola pesantren modern di Asia Tenggara itu milik semua orang muslim.(COK/Andre Bangsawan dan Andi Azril).\n",
      "3.2.Prep Clean Article:\n",
      " tiga faksi darul islam memiliki hubungan yang sangat personal dengan anggota militer kerja sama itu berdasarkan pesanan itu yang ingin kita putuskan supaya tidak terjadi pengeboman ujar aktivis darul islam al chaidar saat berbincang dengan presenter sctv rosianna silalahi ahad petang dia menyatakan bisa membantu kepolisian mengungkap kasus peledakan di gereja petra dan australian international school awal november silam kepolisian juga berencana memeriksa al chaidar dalam waktu dekat pria kelahiran lhokseumawe nanggroe aceh darussalam 22 november 1969 ini berpendapat setiap perilaku kekerasan harus dihentikan apa yang kita teliti tak ada yang salah kata al chaidar bekas ketua aksi sejuta ummat 1 mei 2001 di lapangan monumen nasional jakarta ini mengungkapkan telah melakukan penelitian pada 1991 hingga 1998 mengenai keterlibatan anggota di nakal pada sejumlah aksi kekerasan mereka diduga kuat menjadi pelaku pengeboman 18 gereja di malam natal 2000 al chaidar mengatakan penelitian itu bukan mencari para pelaku yang diperkirakan telah kabur ke luar negeri seperti ke afghanistan atau chechen paling penting secara preventif mengajak pemerintah melakukan perjanjian perdamaian dengan mereka kata dia al chaidar menyatakan kesetujuan jika polisi menangkap pelaku tindak kekerasan al chaidar mengungkapkan tiga faksi di terlibat pada dua peristiwa peledakan bom itu menurut alumnus jurusan ilmu politik fakultas ilmu sosial dan ilmu politik universitas indonesia ini pembeberan hal itu karena dia tak ingin polisi melakukan kesalahan dalam penyelidikan pria berdahi lebar ini mengatakan di terdiri dari 14 faksi dan antarfaksi memiliki hubungan tradisional aktivis muslim yang telah menulis 18 buku tentang pergerakan islam radikal di indonesia itu mengatakan ia tidak bisa menyebutkan nama tiga faksi itu karena nama faksi sama dengan nama imam dia mengkategorikan anggota faksi yang melakukan peledakan sebagai anggota yang nakal karena tidak mematuhi imamnya pria yang aktif menulis di berbagai media massa dan jumal ilmiah itu berpendapat tindak kekerasan sangat merusak citra di kita perlu menghentikan aksi itu karena kekerasan bukan jalan keluar kata dia bekas ketua lingkaran studi creative minority itu menyesalkan tindakan polisi yang menggerebek kantor di di jalan batu i no 26a gang arab pejaten timur jakarta selatan 7 september silam menurut dia tindakan polisi itu tidak memiliki alasan kuat seharusnya polisi bisa memilah pergerakan yang bersifat kekerasan dan nonkekerasan kata dia ketua rakyat aceh serantau ini tak sependapat pengungkapan hal itu mendiskreditkan di dia beralasan ini hanya upaya untuk mengubah perilaku mereka agar tidak melakukan aksiaksi yang bersifat kekerasan dia menyangkal kemungkinan bentrokan antarfaksi yang menyebabkannya membuka suara nggak juga kami sudah lama membuka cuma saja pers belum begitu memperhatikan ujar dia al chaidar membantah tindak kekerasan yang melibatkan anggota di untuk mendongkrak reputasi organisasi islam itu menurut dia mereka tak pernah memikirkan reputasi karena nama baik di sudah sangat buruk bukubuku sejarah di tanah air kata dia telah meluluhlantakkan para tokoh yang disebut pemberontak dan pengkhianat bangsa mantan anggota indonesia student association for international studies ini mengakui tindak kekerasan anggota di nakal sebagai bagian gambaran perjuangan islam ketika keadaan memaksa dan tak ada jalan lain mereka bisa menggunakan kekerasan kata bekas anggota redaktur pelaksana jurnal mahasiswa ilmu politik dan sosial fisip ui ini pada kesempatan terpisah pengurus yayasan mahad azzaitun di indramayu jawa barat membantah keterlibatan mereka pada kegiatan di dua orang pengurus yayasan kyai jafar subani dan haji sarwani berpendapat aksi peledakan bom di sejumlah tempat ibadah dan tempattempat keramaian lain di jakarta adalah perbuatan yang sangat bertentangan dengan ajaran islam haji sarwani mengaku sama sekali tidak mengetahui tiga faksi di dia juga mengatakan secara pribadi tidak mengenal al chaidar jika al chaidar mengaku mengenal para pengurus yayasan sarwani dan kyai jafar menyatakan hal itu adalah hak setiap muslim menurut mereka yayasan yang mengelola pesantren modern di asia tenggara itu milik semua orang muslim\n",
      "4.1.Clean Summary:\n",
      " Tiga faksi Darul Islam memiliki hubungan tidak resmi dengan sejumlah anggota militer. Pengungkapan kasus itu bertujuan agar mereka menghentikan aksi-aksi kekerasan.\n",
      "4.2.Prep Clean Summary:\n",
      " tiga faksi darul islam memiliki hubungan tidak resmi dengan sejumlah anggota militer pengungkapan kasus itu bertujuan agar mereka menghentikan aksiaksi kekerasan\n",
      "5.Extractive Summary:\n",
      " Liputan6.com, Jakarta: Tiga faksi Darul Islam memiliki hubungan yang sangat personal dengan anggota militer. Dia beralasan ini hanya upaya untuk mengubah perilaku mereka agar tidak melakukan aksi-aksi yang bersifat kekerasan.\n",
      "----------------------------------------------------------------------------------------------------\n",
      "1.Index: 1432\n",
      "2.Url:\n",
      " https://www.liputan6.com/news/read/14737/masyarakat-miskin-akan-diberi-kompensasi\n",
      "3.1.Clean Article:\n",
      " Liputan6.com, Jakarta: Pemerintah telah menetapkan program kompensasi sosial senilai Rp 1, 2 triliun untuk membantu masyarakat miskin yang terkena dampak kenaikan harga bahan bakar minyak. Hal itu diungkapkan Menteri Keuangan Rizal Ramli di Jakarta, baru-baru ini. Menurut Rizal, program kompensasi tersebut terdiri dari tiga pos penting yang sudah disepakati pemerintah. Program pertama berupa peningkatan volume dan target sasaran dari distribusi beras bersubsidi, terutama bagi kelompok miskin di perkotaan. Dana kompensasi juga akan diberikan dalam bentuk vaksinasi balita dan obat generik kepada masyarakat miskin serta pemberian beasiswa kepada anak-anak yang kurang mampu. Menurut Rizal Ramli, penentuan jumlah dan siapa yang berhak menerima dana tersebut masih akan ditentukan kemudian. Namun, dana kompensasi ini diharapkan dapat membantu mengurangi beban masyarakat miskin sehubungan denga kenaikan harga barang dan jasa yang dipengaruhi harga BBM.(HFS/Indy Rahmawati dan Agus).\n",
      "3.2.Prep Clean Article:\n",
      " pemerintah telah menetapkan program kompensasi sosial senilai rp 1 2 triliun untuk membantu masyarakat miskin yang terkena dampak kenaikan harga bahan bakar minyak hal itu diungkapkan menteri keuangan rizal ramli di jakarta barubaru ini menurut rizal program kompensasi tersebut terdiri dari tiga pos penting yang sudah disepakati pemerintah program pertama berupa peningkatan volume dan target sasaran dari distribusi beras bersubsidi terutama bagi kelompok miskin di perkotaan dana kompensasi juga akan diberikan dalam bentuk vaksinasi balita dan obat generik kepada masyarakat miskin serta pemberian beasiswa kepada anakanak yang kurang mampu menurut rizal ramli penentuan jumlah dan siapa yang berhak menerima dana tersebut masih akan ditentukan kemudian namun dana kompensasi ini diharapkan dapat membantu mengurangi beban masyarakat miskin sehubungan denga kenaikan harga barang dan jasa yang dipengaruhi harga bbm\n",
      "4.1.Clean Summary:\n",
      " Pemerintah menyiapkan kompensasi kenaikan harga BBM untuk masyarakat miskin. Namun, jumlah dan penerima dana tersebut masih akan ditentukan.\n",
      "4.2.Prep Clean Summary:\n",
      " pemerintah menyiapkan kompensasi kenaikan harga bbm untuk masyarakat miskin namun jumlah dan penerima dana tersebut masih akan ditentukan\n",
      "5.Extractive Summary:\n",
      " Liputan6.com, Jakarta: Pemerintah telah menetapkan program kompensasi sosial senilai Rp 1, 2 triliun untuk membantu masyarakat miskin yang terkena dampak kenaikan harga bahan bakar minyak. Menurut Rizal Ramli, penentuan jumlah dan siapa yang berhak menerima dana tersebut masih akan ditentukan kemudian.\n",
      "----------------------------------------------------------------------------------------------------\n",
      "1.Index: 9685\n",
      "2.Url:\n",
      " https://www.liputan6.com/news/read/24900/pemindahan-napi-lp-pekanbaru-dikawal-brimob\n",
      "3.1.Clean Article:\n",
      " Liputan6.com, Pekanbaru: Sekitar 300 narapidana Lembaga Pemasyarakatan Pekanbaru dipindahkan ke tiga LP di wilayah Riau, baru-baru ini. Pemindahan dilakukan dalam pengawalan ketat pasukan Brigade Mobil bersenjata lengkap. Langkah tersebut diambil menyusul kebakaran LP Pekanbaru, Ahad tengah malam silam [baca: Kerusuhan Mewarnai Kebakaran di LP Pekanbaru]. Kantor Wilayah Kehakiman dan Hak Asasi Manusia Riau memutuskan segera memindahkan ratusan napi LP Pekanbaru ke LP Dumai, Rengat, dan Pasir Pengaraian lebih cepat dari rencana semula, pekan depan. Sebab, kapasitas LP Anak yang menjadi penampungan sementara 572 napi LP Pekanbaru tak memadai. LP Anak hanya mampu menerima sekitar 164 orang dan sudah dihuni 133 napi. Artinya, sebenarnya, LP Anak hanya dapat menampung puluhan penghuni baru. Proses pemindahan dikawal ketat anggota Brimob untuk mencegah bentrokan seperti yang terjadi sebelumnya. Mereka yang dipindahkan adalah napi yang masa hukumannya di bawah lima tahun. Sedangkan narapidana dengan masa hukuman di atas lima tahun tetap berada di LP Anak Pekanbaru. Mengenai penyebab kebakaran, Kepala Kepolisian Kota Besar Pekanbaru Komisaris Besar Polisi Totoy H. Indra menyatakan, sudah memeriksa sembilan petugas LP yang berada tempat kejadian. Namun, sejauh ini, status kesembilan petugas tersebut masih sebagai saksi.(TNA/Yusril Ardanis).\n",
      "3.2.Prep Clean Article:\n",
      " sekitar 300 narapidana lembaga pemasyarakatan pekanbaru dipindahkan ke tiga lp di wilayah riau barubaru ini pemindahan dilakukan dalam pengawalan ketat pasukan brigade mobil bersenjata lengkap langkah tersebut diambil menyusul kebakaran lp pekanbaru ahad tengah malam silam kantor wilayah kehakiman dan hak asasi manusia riau memutuskan segera memindahkan ratusan napi lp pekanbaru ke lp dumai rengat dan pasir pengaraian lebih cepat dari rencana semula pekan depan sebab kapasitas lp anak yang menjadi penampungan sementara 572 napi lp pekanbaru tak memadai lp anak hanya mampu menerima sekitar 164 orang dan sudah dihuni 133 napi artinya sebenarnya lp anak hanya dapat menampung puluhan penghuni baru proses pemindahan dikawal ketat anggota brimob untuk mencegah bentrokan seperti yang terjadi sebelumnya mereka yang dipindahkan adalah napi yang masa hukumannya di bawah lima tahun sedangkan narapidana dengan masa hukuman di atas lima tahun tetap berada di lp anak pekanbaru mengenai penyebab kebakaran kepala kepolisian kota besar pekanbaru komisaris besar polisi totoy h indra menyatakan sudah memeriksa sembilan petugas lp yang berada tempat kejadian namun sejauh ini status kesembilan petugas tersebut masih sebagai saksi\n",
      "4.1.Clean Summary:\n",
      " Pemindahan sekitar 300 narapidana LP Pekanbaru yang terbakar ke tiga LP di kawasan Riau dikawal ketat pasukan Brimob bersenjata lengkap. Penyebab kebakaran belum diketahui.\n",
      "4.2.Prep Clean Summary:\n",
      " pemindahan sekitar 300 narapidana lp pekanbaru yang terbakar ke tiga lp di kawasan riau dikawal ketat pasukan brimob bersenjata lengkap penyebab kebakaran belum diketahui\n",
      "5.Extractive Summary:\n",
      " Liputan6.com, Pekanbaru: Sekitar 300 narapidana Lembaga Pemasyarakatan Pekanbaru dipindahkan ke tiga LP di wilayah Riau, baru-baru ini. Pemindahan dilakukan dalam pengawalan ketat pasukan Brigade Mobil bersenjata lengkap.\n",
      "----------------------------------------------------------------------------------------------------\n",
      "1.Index: 3906\n",
      "2.Url:\n",
      " https://www.liputan6.com/news/read/17749/ketua-dpr--bencana-nias-menjadi-bencana-nasional\n",
      "3.1.Clean Article:\n",
      " Liputan6.com, Jakarta: Pemerintah diminta menetapkan bencana alam Nias, Sumatra Utara, sebagai bencana nasional. Dengan demikian, pemerintah dapat memberikan perhatian maksimal dalam menangani bencana banjir dan tanah longsor itu. Demikian dikemukakan Ketua DPR Akbar Tandjung selesai menerima Ketua Panitia Bencana Alam Nias Martin Luther Daili dan Himpunan Masyarakat Nias, di Gedung MPR/DPR, Senin(6/8). Akbar mengatakan jumlah korban yang meninggal dan kerugian material akibat bencana alam Nias cukup besar. Untuk itu, upaya penanganan bencana harus cepat dilakukan dengan melibatkan instansi terkait. Misalnya, ujar Akbar, Badan Perencanaan Pembangunan Nasional diikutsertakan dalam menyediakan anggaran rehabilitasi pembangunan fisik di masa depan. Selain itu, Akbar juga mendukung rencana dihidupkannya kembali Departemen Sosial. Usai pertemuan dengan Ketua DPR, Martin Luther, memaparkan data terbaru jumlah warga yang menjadi korban bencana banjir dan longsor, di Nias, sejak 31 Juli 2001. Dijelaskan, bencana itu sudah menelan 74 korban tewas, warga hilang sebanyak 107 orang, dan yang terisolasi sebanyak 1. 567 orang. Sedangkan bangunan yang hancur sebanyak 332 unit rumah, dua rumah ibadah, dua gedung Sekolah Dasar, empat jembatan, 13 kantor instansi pemerintah, dan 200 hektare sawah siap panen.(KEN/Alfito Deanova dan Zakaria).\n",
      "3.2.Prep Clean Article:\n",
      " pemerintah diminta menetapkan bencana alam nias sumatra utara sebagai bencana nasional dengan demikian pemerintah dapat memberikan perhatian maksimal dalam menangani bencana banjir dan tanah longsor itu demikian dikemukakan ketua dpr akbar tandjung selesai menerima ketua panitia bencana alam nias martin luther daili dan himpunan masyarakat nias di gedung mprdpr senin akbar mengatakan jumlah korban yang meninggal dan kerugian material akibat bencana alam nias cukup besar untuk itu upaya penanganan bencana harus cepat dilakukan dengan melibatkan instansi terkait misalnya ujar akbar badan perencanaan pembangunan nasional diikutsertakan dalam menyediakan anggaran rehabilitasi pembangunan fisik di masa depan selain itu akbar juga mendukung rencana dihidupkannya kembali departemen sosial usai pertemuan dengan ketua dpr martin luther memaparkan data terbaru jumlah warga yang menjadi korban bencana banjir dan longsor di nias sejak 31 juli 2001 dijelaskan bencana itu sudah menelan 74 korban tewas warga hilang sebanyak 107 orang dan yang terisolasi sebanyak 1 567 orang sedangkan bangunan yang hancur sebanyak 332 unit rumah dua rumah ibadah dua gedung sekolah dasar empat jembatan 13 kantor instansi pemerintah dan 200 hektare sawah siap panen\n",
      "4.1.Clean Summary:\n",
      " Ketua DPR Akbar Tandjung meminta pemerintah menetapkan bencana alam Nias, Sumatra Utara, sebagai bencana nasional. Badan Perencanaan Pembangunan Nasional dan Departemen Sosial perlu dilibatkan dalam rehabilitasi korban dan pembangunan.\n",
      "4.2.Prep Clean Summary:\n",
      " ketua dpr akbar tandjung meminta pemerintah menetapkan bencana alam nias sumatra utara sebagai bencana nasional badan perencanaan pembangunan nasional dan departemen sosial perlu dilibatkan dalam rehabilitasi korban dan pembangunan\n",
      "5.Extractive Summary:\n",
      " Liputan6.com, Jakarta: Pemerintah diminta menetapkan bencana alam Nias, Sumatra Utara, sebagai bencana nasional. Misalnya, ujar Akbar, Badan Perencanaan Pembangunan Nasional diikutsertakan dalam menyediakan anggaran rehabilitasi pembangunan fisik di masa depan.\n",
      "----------------------------------------------------------------------------------------------------\n",
      "1.Index: 2158\n",
      "2.Url:\n",
      " https://www.liputan6.com/news/read/15627/menyampaikan-perdamaian-lewat-rangkaian-bunga-dan-batu\n",
      "3.1.Clean Article:\n",
      " Liputan6.com, Jakarta: Banyak cara yang dapat dilakukan untuk menyampaikan pesan. Buktinya, filosofi perdamaian, kerukunan umat beragama, dan kecintaan lingkungan dapat disampaikan dalam bentuk rangkaian bunga dan batu ukir. Semua itu tertuang dalam pameran yang berjudul \" Rangkaian Bunga dan Kidung Langit Salamulloh \" yang digelar di Jakarta Media Centre, Jumat(29/6). Pameran yang berlangsung sejak kemarin itu menampilkan sejumlah karya seni. Misalnya, sebuah lukisan yang menggambarkan kerukunan hidup antarumat beragama digambarkan dengan bersatunya mereka di dalam sebuah jamuan. Empat cangkir itu melambangkan lima agama yang ada di Tanah Air: Islam, Hindu, Budha, Kristen Protestan, dan Katholik. Sedangkan, enam patung yang terbuat dari rangkaian bunga dan jerami yang dikeringkan, menggambarkan potret rakyat kecil. Misalnya seperti tukang becak, tukang sayur yang bersatu dan menginginkan perdamaian tercipta di Indonesia. Sementara, kepedulian terhadap lingkungan sekitar terlihat dari ukiran batu unik dengan hiasan bunga anggrek layu dan berbagai pecahan uang logam dari berbagai negara. Lantas masih ada dua batang rokok di sana, yang menggambarkan keterlibatan seseorang dengan narkotika, yang diawali dengan kegemaran merokok.(ORS/Apriliana dan Budi Sukmadianto).\n",
      "3.2.Prep Clean Article:\n",
      " banyak cara yang dapat dilakukan untuk menyampaikan pesan buktinya filosofi perdamaian kerukunan umat beragama dan kecintaan lingkungan dapat disampaikan dalam bentuk rangkaian bunga dan batu ukir semua itu tertuang dalam pameran yang berjudul rangkaian bunga dan kidung langit salamulloh yang digelar di jakarta media centre jumat pameran yang berlangsung sejak kemarin itu menampilkan sejumlah karya seni misalnya sebuah lukisan yang menggambarkan kerukunan hidup antarumat beragama digambarkan dengan bersatunya mereka di dalam sebuah jamuan empat cangkir itu melambangkan lima agama yang ada di tanah air islam hindu budha kristen protestan dan katholik sedangkan enam patung yang terbuat dari rangkaian bunga dan jerami yang dikeringkan menggambarkan potret rakyat kecil misalnya seperti tukang becak tukang sayur yang bersatu dan menginginkan perdamaian tercipta di indonesia sementara kepedulian terhadap lingkungan sekitar terlihat dari ukiran batu unik dengan hiasan bunga anggrek layu dan berbagai pecahan uang logam dari berbagai negara lantas masih ada dua batang rokok di sana yang menggambarkan keterlibatan seseorang dengan narkotika yang diawali dengan kegemaran merokok\n",
      "4.1.Clean Summary:\n",
      " Pesan perdamaian, kerukunan umat beragama, dan kecintaan lingkungan di Tanah Air dapat dituangkan pada bunga dan batu. Hasil karya rangkaian bunga dan batu ukir itu dipamerkan di Jakarta.\n",
      "4.2.Prep Clean Summary:\n",
      " pesan perdamaian kerukunan umat beragama dan kecintaan lingkungan di tanah air dapat dituangkan pada bunga dan batu hasil karya rangkaian bunga dan batu ukir itu dipamerkan di jakarta\n",
      "5.Extractive Summary:\n",
      " Buktinya, filosofi perdamaian, kerukunan umat beragama, dan kecintaan lingkungan dapat disampaikan dalam bentuk rangkaian bunga dan batu ukir. Pameran yang berlangsung sejak kemarin itu menampilkan sejumlah karya seni.\n",
      "----------------------------------------------------------------------------------------------------\n",
      "1.Index: 10018\n",
      "2.Url:\n",
      " https://www.liputan6.com/news/read/25291/data-penting-ikut-terbakar-di-depperindag\n",
      "3.1.Clean Article:\n",
      " Liputan6.com, Jakarta: Data yang ikut terbakar di Gedung Departemen Perindustrian dan Perdagangan di Jalan Ridwan Rais, Jakarta Pusat, Sabtu silam, tergolong penting. Soalnya, data tersebut adalah hasil monitoring kuota tekstil yang diperlukan Depperindag untuk mengaudit dan investigasi ekspor tekstil. Menurut Direktur Utama Sucofindo Didie B. Tedjosumirat, baru-baru ini, untungnya data yang terbakar memiliki back up yang kini disimpan di Kantor Pusat Sucofindo, Pasarminggu, Jakarta Selatan [baca: Kebakaran di Depperindag Tak Mempengaruhi Perdagangan]. Itulah sebabnya, para pengusaha tak perlu khawatir mengenai dokumen penting tersebut. Kebakaran di Depperindag sempat menimbulkan spekulasi. Sejumlah kalangan menduga musibah itu mengandung unsur kesengajaan. Untuk mengetahui penyebab kebakaran, polisi memeriksa dua staf Sucofindo yang ditempatkan di Depperindag. Nantinya, hasil penyelidikan Tim Pusat Laboratorium Forensik Markas Besar Polri akan diserahkan kepada Kepolisian Daerah Metro Jaya dan segera disimpulkan. Menginjak hari ketiga pascakebakaran, sejumlah karyawan Depperindag mulai diizinkan memasuki gedung untuk mengambil berkas, dokumen, maupun barang lainnya yang dianggap penting. Kedatangan para karyawan dikawal polisi ang berpakaian preman. Langkah itu dilakukan mengingat kondisi gedung yang masih dinyatakan tertutup dan dibatasi garis polisi [baca: Kebakaran Gedung Depperindag Diduga Disabotase]. Menurut pemantauan SCTV, puluhan karyawan yang menempati seluruh Lantai Blok II belum dapat bekerja seperti semula. Mereka tampak berkerumun di depan gedung sambil melihat perkembangan yang terjadi. Sedangkan kepolisian belum bisa memastikan, kapan gedung itu difungsikan kembali.(ORS/Tim Liputan 6 SCTV).\n",
      "3.2.Prep Clean Article:\n",
      " data yang ikut terbakar di gedung departemen perindustrian dan perdagangan di jalan ridwan rais jakarta pusat sabtu silam tergolong penting soalnya data tersebut adalah hasil monitoring kuota tekstil yang diperlukan depperindag untuk mengaudit dan investigasi ekspor tekstil menurut direktur utama sucofindo didie b tedjosumirat barubaru ini untungnya data yang terbakar memiliki back up yang kini disimpan di kantor pusat sucofindo pasarminggu jakarta selatan itulah sebabnya para pengusaha tak perlu khawatir mengenai dokumen penting tersebut kebakaran di depperindag sempat menimbulkan spekulasi sejumlah kalangan menduga musibah itu mengandung unsur kesengajaan untuk mengetahui penyebab kebakaran polisi memeriksa dua staf sucofindo yang ditempatkan di depperindag nantinya hasil penyelidikan tim pusat laboratorium forensik markas besar polri akan diserahkan kepada kepolisian daerah metro jaya dan segera disimpulkan menginjak hari ketiga pascakebakaran sejumlah karyawan depperindag mulai diizinkan memasuki gedung untuk mengambil berkas dokumen maupun barang lainnya yang dianggap penting kedatangan para karyawan dikawal polisi ang berpakaian preman langkah itu dilakukan mengingat kondisi gedung yang masih dinyatakan tertutup dan dibatasi garis polisi menurut pemantauan sctv puluhan karyawan yang menempati seluruh lantai blok ii belum dapat bekerja seperti semula mereka tampak berkerumun di depan gedung sambil melihat perkembangan yang terjadi sedangkan kepolisian belum bisa memastikan kapan gedung itu difungsikan kembali\n",
      "4.1.Clean Summary:\n",
      " Data yang ikut terbakar di Gedung Depperindag, Jakpus, tergolong penting. Puluhan karyawan Depperindag belum diperbolehkan memasuki gedung.\n",
      "4.2.Prep Clean Summary:\n",
      " data yang ikut terbakar di gedung depperindag jakpus tergolong penting puluhan karyawan depperindag belum diperbolehkan memasuki gedung\n",
      "5.Extractive Summary:\n",
      " Kebakaran di Depperindag sempat menimbulkan spekulasi. Menginjak hari ketiga pascakebakaran, sejumlah karyawan Depperindag mulai diizinkan memasuki gedung untuk mengambil berkas, dokumen, maupun barang lainnya yang dianggap penting.\n",
      "----------------------------------------------------------------------------------------------------\n",
      "1.Index: 1225\n",
      "2.Url:\n",
      " https://www.liputan6.com/news/read/14483/di-jambi--lokasi-penimbun-bbm-ditemukan\n",
      "3.1.Clean Article:\n",
      " Liputan6.com, Muaro Jambi: Rombongan anggota DPRD Jambi dan wartawan secara kebetulan menemukan lokasi penimbunan di Desa Sungai Bungor, Kumpeh, Muaro Jambi, baru-baru ini. Ketika itu, rombongan yang baru saja pulang dari Kota Muaro Jambi melihat sebuah mobil tanki sedang memindahkan minyak ke ratusan drum. Karena curiga, rombongan berhenti dan menemukan ratusan drum yang telah diisi solar dan minyak tanah. Drum-drum itu sengaja diletakkan di bawah pohon dan jauh dari jalan raya. Melihat banyak orang datang, sopir mobil bernomor polisi BH 4920 AK itu berusaha melarikan diri. Namun, usaha pelarian itu gagal lantaran dihadang rombongan. Untuk menindaklanjuti temuan itu, Kepolisian Resor Batang segera mengejar Busro, seorang pemilik minyak timbunan tersebut. Sementara itu, kelangkaan minyak di Jambi masih terjadi di kawasan pinggir sungai. Sedang di daratan masih normal [baca: Organda: Bahan Bakar Angkutan Jangan Dinaikkan].(AWD/Suhatman Pisang).\n",
      "3.2.Prep Clean Article:\n",
      " rombongan anggota dprd jambi dan wartawan secara kebetulan menemukan lokasi penimbunan di desa sungai bungor kumpeh muaro jambi barubaru ini ketika itu rombongan yang baru saja pulang dari kota muaro jambi melihat sebuah mobil tanki sedang memindahkan minyak ke ratusan drum karena curiga rombongan berhenti dan menemukan ratusan drum yang telah diisi solar dan minyak tanah drumdrum itu sengaja diletakkan di bawah pohon dan jauh dari jalan raya melihat banyak orang datang sopir mobil bernomor polisi bh 4920 ak itu berusaha melarikan diri namun usaha pelarian itu gagal lantaran dihadang rombongan untuk menindaklanjuti temuan itu kepolisian resor batang segera mengejar busro seorang pemilik minyak timbunan tersebut sementara itu kelangkaan minyak di jambi masih terjadi di kawasan pinggir sungai sedang di daratan masih normal\n",
      "4.1.Clean Summary:\n",
      " Tempat menimbun minyak tanah dan solar di Jambi ditemukan secara kebetulan. Seorang sopir mobil tanki bernomor polisi BH 4920 AK ditangkap dan seorang lagi buron.\n",
      "4.2.Prep Clean Summary:\n",
      " tempat menimbun minyak tanah dan solar di jambi ditemukan secara kebetulan seorang sopir mobil tanki bernomor polisi bh 4920 ak ditangkap dan seorang lagi buron\n",
      "5.Extractive Summary:\n",
      " Karena curiga, rombongan berhenti dan menemukan ratusan drum yang telah diisi solar dan minyak tanah. Melihat banyak orang datang, sopir mobil bernomor polisi BH 4920 AK itu berusaha melarikan diri.\n",
      "----------------------------------------------------------------------------------------------------\n"
     ]
    }
   ],
   "source": [
    "random_sample = df_used.sample(n=10, random_state=1)  # random_state untuk konsistensi hasil\n",
    "for index, row in random_sample.iterrows():\n",
    "    print(f\"1.Index: {index}\")\n",
    "    print(f\"2.Url:\\n {row['url']}\")\n",
    "    \n",
    "    print(f\"3.1.Clean Article:\\n {row['ext_clean_article']}\")\n",
    "    print(f\"3.2.Prep Clean Article:\\n {row['prep_clean_article']}\")\n",
    "    \n",
    "    print(f\"4.1.Clean Summary:\\n {row['ext_clean_summary']}\")\n",
    "    print(f\"4.2.Prep Clean Summary:\\n {row['prep_clean_summary']}\")\n",
    "    \n",
    "    print(f\"5.Extractive Summary:\\n {row['ext_extractive_summary']}\")\n",
    "    print(\"-\" * 100)  # Pembatas antar tweet"
   ],
   "metadata": {
    "collapsed": false,
    "ExecuteTime": {
     "end_time": "2024-10-08T02:32:19.753155500Z",
     "start_time": "2024-10-08T02:32:19.646020500Z"
    }
   },
   "id": "70d27777e4f0c22b"
  },
  {
   "cell_type": "code",
   "execution_count": 38,
   "outputs": [
    {
     "name": "stdout",
     "output_type": "stream",
     "text": [
      "<class 'pandas.core.frame.DataFrame'>\n",
      "RangeIndex: 4948 entries, 0 to 4947\n",
      "Data columns (total 5 columns):\n",
      " #   Column              Non-Null Count  Dtype \n",
      "---  ------              --------------  ----- \n",
      " 0   id                  4948 non-null   int64 \n",
      " 1   url                 4948 non-null   object\n",
      " 2   clean_article       4948 non-null   object\n",
      " 3   clean_summary       4948 non-null   object\n",
      " 4   extractive_summary  4948 non-null   object\n",
      "dtypes: int64(1), object(4)\n",
      "memory usage: 193.4+ KB\n"
     ]
    }
   ],
   "source": [
    "df_xtreme_dev.info()"
   ],
   "metadata": {
    "collapsed": false,
    "ExecuteTime": {
     "end_time": "2024-10-07T11:25:38.386109600Z",
     "start_time": "2024-10-07T11:25:38.283923600Z"
    }
   },
   "id": "922f694b7b1c248d"
  },
  {
   "cell_type": "code",
   "execution_count": 1,
   "id": "initial_id",
   "metadata": {
    "collapsed": true,
    "ExecuteTime": {
     "end_time": "2024-10-07T07:19:41.251735400Z",
     "start_time": "2024-10-07T07:19:34.856128800Z"
    }
   },
   "outputs": [],
   "source": [
    "import pandas as pd\n",
    "import os\n",
    "import re\n",
    "import seaborn as sns\n",
    "import nltk\n",
    "import matplotlib.pyplot as plt\n",
    "import transformers\n",
    "import torch"
   ]
  },
  {
   "cell_type": "code",
   "execution_count": 3,
   "outputs": [
    {
     "data": {
      "text/plain": "True"
     },
     "execution_count": 3,
     "metadata": {},
     "output_type": "execute_result"
    }
   ],
   "source": [
    "torch.cuda.is_available()"
   ],
   "metadata": {
    "collapsed": false,
    "ExecuteTime": {
     "end_time": "2024-10-07T07:19:52.223407400Z",
     "start_time": "2024-10-07T07:19:52.192167400Z"
    }
   },
   "id": "2bd39e4da4cd384a"
  }
 ],
 "metadata": {
  "kernelspec": {
   "display_name": "Python 3",
   "language": "python",
   "name": "python3"
  },
  "language_info": {
   "codemirror_mode": {
    "name": "ipython",
    "version": 2
   },
   "file_extension": ".py",
   "mimetype": "text/x-python",
   "name": "python",
   "nbconvert_exporter": "python",
   "pygments_lexer": "ipython2",
   "version": "2.7.6"
  }
 },
 "nbformat": 4,
 "nbformat_minor": 5
}
