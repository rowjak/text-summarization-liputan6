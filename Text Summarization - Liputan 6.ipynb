{
 "cells": [
  {
   "cell_type": "code",
   "execution_count": 106,
   "outputs": [
    {
     "name": "stderr",
     "output_type": "stream",
     "text": [
      "[nltk_data] Downloading package stopwords to\n",
      "[nltk_data]     C:\\Users\\Rowjak\\AppData\\Roaming\\nltk_data...\n",
      "[nltk_data]   Package stopwords is already up-to-date!\n",
      "[nltk_data] Downloading package punkt to\n",
      "[nltk_data]     C:\\Users\\Rowjak\\AppData\\Roaming\\nltk_data...\n",
      "[nltk_data]   Package punkt is already up-to-date!\n"
     ]
    }
   ],
   "source": [
    "import datasets\n",
    "from datasets import load_dataset\n",
    "import pandas as pd\n",
    "import nltk\n",
    "import seaborn as sns\n",
    "import os\n",
    "import matplotlib.pyplot as plt\n",
    "import json\n",
    "import re\n",
    "import numpy as np\n",
    "from wordcloud import WordCloud\n",
    "\n",
    "nltk.download('stopwords')\n",
    "nltk.download('punkt')\n",
    "from nltk.corpus import stopwords"
   ],
   "metadata": {
    "collapsed": false,
    "ExecuteTime": {
     "end_time": "2024-10-08T01:33:30.775361600Z",
     "start_time": "2024-10-08T01:33:29.052129Z"
    }
   },
   "id": "d547f534281d48e7"
  },
  {
   "cell_type": "code",
   "execution_count": 107,
   "outputs": [],
   "source": [
    "path = os.getcwd()"
   ],
   "metadata": {
    "collapsed": false,
    "ExecuteTime": {
     "end_time": "2024-10-08T01:33:31.931013700Z",
     "start_time": "2024-10-08T01:33:31.898148900Z"
    }
   },
   "id": "78cb5aea89c0bc47"
  },
  {
   "cell_type": "code",
   "execution_count": 108,
   "outputs": [],
   "source": [
    "df_train = pd.read_parquet(os.path.join(path, \"dataset/train_combined.parquet\"))"
   ],
   "metadata": {
    "collapsed": false,
    "ExecuteTime": {
     "end_time": "2024-10-08T01:44:48.205547700Z",
     "start_time": "2024-10-08T01:44:34.930660Z"
    }
   },
   "id": "ac6a9820649a44ef"
  },
  {
   "cell_type": "code",
   "execution_count": 109,
   "outputs": [],
   "source": [
    "df_train_sample = pd.read_parquet(os.path.join(path, \"dataset/train_sample_combined.parquet\"))\n",
    "df_xtreme_dev = pd.read_parquet(os.path.join(path, \"dataset/xtreme_dev_combined.parquet\"))\n",
    "df_xtreme_test = pd.read_parquet(os.path.join(path, \"dataset/xtreme_test_combined.parquet\"))"
   ],
   "metadata": {
    "collapsed": false,
    "ExecuteTime": {
     "end_time": "2024-10-08T01:44:51.257138700Z",
     "start_time": "2024-10-08T01:44:48.209549400Z"
    }
   },
   "id": "21b0ca03b98158f1"
  },
  {
   "cell_type": "code",
   "execution_count": 121,
   "outputs": [
    {
     "name": "stdout",
     "output_type": "stream",
     "text": [
      "<class 'pandas.core.frame.DataFrame'>\n",
      "Index: 38777 entries, 42855 to 90081\n",
      "Data columns (total 5 columns):\n",
      " #   Column              Non-Null Count  Dtype \n",
      "---  ------              --------------  ----- \n",
      " 0   id                  38777 non-null  int64 \n",
      " 1   url                 38777 non-null  object\n",
      " 2   clean_article       38777 non-null  object\n",
      " 3   clean_summary       38777 non-null  object\n",
      " 4   extractive_summary  38777 non-null  object\n",
      "dtypes: int64(1), object(4)\n",
      "memory usage: 1.8+ MB\n"
     ]
    }
   ],
   "source": [
    "df_train_sample.info()"
   ],
   "metadata": {
    "collapsed": false,
    "ExecuteTime": {
     "end_time": "2024-10-08T02:00:32.667453400Z",
     "start_time": "2024-10-08T02:00:32.527603200Z"
    }
   },
   "id": "fc4e05c3b394d4ab"
  },
  {
   "cell_type": "code",
   "execution_count": 124,
   "outputs": [],
   "source": [
    "df_test = pd.read_parquet(os.path.join(path, \"dataset/test_combined.parquet\"))"
   ],
   "metadata": {
    "collapsed": false,
    "ExecuteTime": {
     "end_time": "2024-10-08T02:03:57.404060400Z",
     "start_time": "2024-10-08T02:03:56.688700900Z"
    }
   },
   "id": "a3a69914c9baead0"
  },
  {
   "cell_type": "code",
   "execution_count": 146,
   "outputs": [],
   "source": [
    "def extract_article(sentences):\n",
    "    # Gabungkan array kata-kata menjadi kalimat\n",
    "    text = ' '.join([' '.join(sentence) for sentence in sentences])\n",
    "    # Hilangkan spasi sebelum tanda baca seperti .,;:!?()\n",
    "    text = re.sub(r'\\s+([.,:;!?()])', r'\\1', text)\n",
    "    # Hilangkan spasi setelah tanda baca '.' jika huruf setelahnya kecil\n",
    "    text = re.sub(r'\\.\\s+([a-z])', r'.\\1', text)\n",
    "    \n",
    "    text = re.sub(r'\\(\\s+', '(', text)  # Hilangkan spasi setelah '('\n",
    "    text = re.sub(r'\\s+\\)', ')', text)  # Hilangkan spasi sebelum ')'\n",
    "    \n",
    "    text = re.sub(r'\\[\\s+', '[', text)  # Hilangkan spasi setelah '['\n",
    "    text = re.sub(r'\\s+\\]', ']', text)  # Hilangkan spasi sebelum ']'\n",
    "    \n",
    "    return text"
   ],
   "metadata": {
    "collapsed": false,
    "ExecuteTime": {
     "end_time": "2024-10-08T02:18:03.913952100Z",
     "start_time": "2024-10-08T02:18:03.798682600Z"
    }
   },
   "id": "bd0a4ef4f527b57a"
  },
  {
   "cell_type": "code",
   "execution_count": 181,
   "outputs": [],
   "source": [
    "df_used = df_train"
   ],
   "metadata": {
    "collapsed": false,
    "ExecuteTime": {
     "end_time": "2024-10-08T02:54:48.125455500Z",
     "start_time": "2024-10-08T02:54:47.920723700Z"
    }
   },
   "id": "9fb3056ea8296a04"
  },
  {
   "cell_type": "code",
   "execution_count": 182,
   "outputs": [],
   "source": [
    "df_used['ext_clean_article'] = df_used['clean_article'].apply(extract_article)\n",
    "df_used['ext_clean_summary'] = df_used['clean_summary'].apply(extract_article)"
   ],
   "metadata": {
    "collapsed": false,
    "ExecuteTime": {
     "end_time": "2024-10-08T02:55:40.923416200Z",
     "start_time": "2024-10-08T02:54:48.998647300Z"
    }
   },
   "id": "fdb7b7fc5dd6e535"
  },
  {
   "cell_type": "code",
   "execution_count": 183,
   "outputs": [],
   "source": [
    "def extract_sentences_from_index(clean_article, extractive_summary):\n",
    "    return [clean_article[i] for i in extractive_summary]"
   ],
   "metadata": {
    "collapsed": false,
    "ExecuteTime": {
     "end_time": "2024-10-08T02:55:46.425443600Z",
     "start_time": "2024-10-08T02:55:46.385277700Z"
    }
   },
   "id": "d3955f718e94ce54"
  },
  {
   "cell_type": "code",
   "execution_count": 184,
   "outputs": [],
   "source": [
    "df_used['extractive_summary_sentences'] = df_used.apply(lambda row: extract_sentences_from_index(row['clean_article'], row['extractive_summary']), axis=1)"
   ],
   "metadata": {
    "collapsed": false,
    "ExecuteTime": {
     "end_time": "2024-10-08T02:55:51.804027Z",
     "start_time": "2024-10-08T02:55:47.370851400Z"
    }
   },
   "id": "70e59dbdecc77b8c"
  },
  {
   "cell_type": "code",
   "execution_count": 185,
   "outputs": [],
   "source": [
    "df_used['ext_extractive_summary'] = df_used['extractive_summary_sentences'].apply(extract_article)"
   ],
   "metadata": {
    "collapsed": false,
    "ExecuteTime": {
     "end_time": "2024-10-08T02:56:02.752018500Z",
     "start_time": "2024-10-08T02:55:53.373842400Z"
    }
   },
   "id": "951eb8a1887e3035"
  },
  {
   "cell_type": "code",
   "execution_count": 186,
   "outputs": [],
   "source": [
    "def preprocessing_article(text):\n",
    "    # ubah semua menjadi huruf kecil\n",
    "    text = text.lower()\n",
    "    # hilangkan teks yang memiliki tanda kurun () dan []\n",
    "    text = re.sub(r'\\(.*?\\)', '', text)\n",
    "    text = re.sub(r'\\[.*?\\]', '', text)\n",
    "    # hilangkan awalan liputan6.com kemudian setelah itu tanda :\n",
    "    text = re.sub(r'^liputan6\\.com, [^:]+: ', '', text)\n",
    "    # hilangkan semua tanda baca\n",
    "    text = re.sub(r'[^\\w\\s]', '', text)\n",
    "    # hilangkan spasi berlebih\n",
    "    text = re.sub(r'\\s+', ' ', text).strip()\n",
    "    \n",
    "    return text"
   ],
   "metadata": {
    "collapsed": false,
    "ExecuteTime": {
     "end_time": "2024-10-08T02:56:05.779968100Z",
     "start_time": "2024-10-08T02:56:05.750505100Z"
    }
   },
   "id": "47fbaa3ddeab58e3"
  },
  {
   "cell_type": "code",
   "execution_count": 187,
   "outputs": [],
   "source": [
    "def remove_stopwords(text):\n",
    "    stop_words = set(stopwords.words('indonesian'))\n",
    "    words = text.split()\n",
    "    filtered_words = [word for word in words if word not in stop_words]\n",
    "    return ' '.join(filtered_words)"
   ],
   "metadata": {
    "collapsed": false,
    "ExecuteTime": {
     "end_time": "2024-10-08T02:56:07.996778600Z",
     "start_time": "2024-10-08T02:56:07.902615800Z"
    }
   },
   "id": "b16f0a4e24d4f1e"
  },
  {
   "cell_type": "code",
   "execution_count": 188,
   "outputs": [],
   "source": [
    "df_used['prep_clean_article'] = df_used['ext_clean_article'].apply(preprocessing_article)\n",
    "df_used['prep_clean_summary'] = df_used['ext_clean_summary'].apply(preprocessing_article)\n",
    "df_used['prep_extractive_summary'] = df_used['ext_extractive_summary'].apply(preprocessing_article)\n",
    "df_used['prep_clean_article_no_sw'] = df_used['prep_clean_article'].apply(remove_stopwords)"
   ],
   "metadata": {
    "collapsed": false,
    "ExecuteTime": {
     "end_time": "2024-10-08T02:59:32.397239600Z",
     "start_time": "2024-10-08T02:56:10.000508900Z"
    }
   },
   "id": "2dfb10f6c14f8263"
  },
  {
   "cell_type": "code",
   "execution_count": 189,
   "outputs": [
    {
     "name": "stdout",
     "output_type": "stream",
     "text": [
      "1. Index: 130774\n",
      "2. Url:\n",
      " https://www.liputan6.com/news/read/276057/ledakan-tabung-gas-lima-warga-luka-luka\n",
      "3.1. Clean Article:\n",
      " Liputan6.com, Bekasi: Lima orang mengalami luka bakar serius di sekujur tubuh akibat edakan tabung gas di Kampung Kebalen, Kabupaten Bekasi, Jawa Barat, Sabtu(8/5). Kepala Kepolisian Sektor(Kapolsek) Babelan, AKP H. Rosid, mengatakan, lokasi ledakan diduga dijadikan sebagai tempat usaha gas ilegal milik warga bernama Marzuki. Lokasi tersebut dijadikan tempat usaha pengisian gas korek api. \" Ratusan tabung gas masing-masing berukuran 50 kilogram dan 10 miligram meledak sekitar pukul 09: 00 WIB. Untuk tabung gas besar yang meledak berjumlah puluhan, sementara gas ukuran kecil yang meledak mencapai ratusan. Hingga kini masih kami lakukan upaya pendataan jumlah pastinya, \" ujar kapolsek. Akibat peristiwa itu sebanyak lima karyawan masing-masing bernama Jhokan(41), Apit(41), Acep(50), Udin(25), dan Ero(24) mengalami luka bakar 90 persen di sekujur tubuh dan dilarikan ke Rumah Sakit Umum Daerah(RSUD) Kota Bekasi untuk keperluan perawatan.pantauan SCTV di lokasi ledakan, satu bangunan yang dijadikan lokasi aktivitas produksi korek api, rusak berat dan nyaris hancur. Puluhan tabung gas berukuran 50 kilogram yang tidak meledak disita polisi. Petugas kepolisian dan pemadam kebakaran tiba di Tempat Kejadian Perkara(TKP). Pemilik tempat usaha tidak berada di lokasi. Namun, hanya menemukan lima karyawan yang mengalami luka bakar serius. Dugaan terkait aktivitas produksi gas ilegal, terindikasi dari hasil produksi gas isi ulang korek api bermerk Red, dan Robinson, yang ditemukan polisi di lokasi ledakan. Kebakaran yang berlangsung selama 2, 5 jam berhasil dipadamkan tiga unit kendaraan pemadam kebakaran milik Pemerintah Kabupaten Bekasi. Nilai kerugian akibat peristiwa ini diperkirakan mencapai puluhan juta rupiah.(ARI).\n",
      "3.2. Prep Clean Article:\n",
      " lima orang mengalami luka bakar serius di sekujur tubuh akibat edakan tabung gas di kampung kebalen kabupaten bekasi jawa barat sabtu kepala kepolisian sektor babelan akp h rosid mengatakan lokasi ledakan diduga dijadikan sebagai tempat usaha gas ilegal milik warga bernama marzuki lokasi tersebut dijadikan tempat usaha pengisian gas korek api ratusan tabung gas masingmasing berukuran 50 kilogram dan 10 miligram meledak sekitar pukul 09 00 wib untuk tabung gas besar yang meledak berjumlah puluhan sementara gas ukuran kecil yang meledak mencapai ratusan hingga kini masih kami lakukan upaya pendataan jumlah pastinya ujar kapolsek akibat peristiwa itu sebanyak lima karyawan masingmasing bernama jhokan apit acep udin dan ero mengalami luka bakar 90 persen di sekujur tubuh dan dilarikan ke rumah sakit umum daerah kota bekasi untuk keperluan perawatanpantauan sctv di lokasi ledakan satu bangunan yang dijadikan lokasi aktivitas produksi korek api rusak berat dan nyaris hancur puluhan tabung gas berukuran 50 kilogram yang tidak meledak disita polisi petugas kepolisian dan pemadam kebakaran tiba di tempat kejadian perkara pemilik tempat usaha tidak berada di lokasi namun hanya menemukan lima karyawan yang mengalami luka bakar serius dugaan terkait aktivitas produksi gas ilegal terindikasi dari hasil produksi gas isi ulang korek api bermerk red dan robinson yang ditemukan polisi di lokasi ledakan kebakaran yang berlangsung selama 2 5 jam berhasil dipadamkan tiga unit kendaraan pemadam kebakaran milik pemerintah kabupaten bekasi nilai kerugian akibat peristiwa ini diperkirakan mencapai puluhan juta rupiah\n",
      "3.3. Prep Clean Article No Stopwords:\n",
      " orang mengalami luka bakar serius sekujur tubuh akibat edakan tabung gas kampung kebalen kabupaten bekasi jawa barat sabtu kepala kepolisian sektor babelan akp h rosid lokasi ledakan diduga dijadikan usaha gas ilegal milik warga bernama marzuki lokasi dijadikan usaha pengisian gas korek api ratusan tabung gas masingmasing berukuran 50 kilogram 10 miligram meledak 09 00 wib tabung gas meledak puluhan gas ukuran meledak mencapai ratusan lakukan upaya pendataan pastinya kapolsek akibat peristiwa karyawan masingmasing bernama jhokan apit acep udin ero mengalami luka bakar 90 persen sekujur tubuh dilarikan rumah sakit daerah kota bekasi keperluan perawatanpantauan sctv lokasi ledakan bangunan dijadikan lokasi aktivitas produksi korek api rusak berat hancur puluhan tabung gas berukuran 50 kilogram meledak disita polisi petugas kepolisian pemadam kebakaran kejadian perkara pemilik usaha lokasi menemukan karyawan mengalami luka bakar serius dugaan terkait aktivitas produksi gas ilegal terindikasi hasil produksi gas isi ulang korek api bermerk red robinson ditemukan polisi lokasi ledakan kebakaran 2 5 jam berhasil dipadamkan unit kendaraan pemadam kebakaran milik pemerintah kabupaten bekasi nilai kerugian akibat peristiwa mencapai puluhan juta rupiah\n",
      "4.1. Clean Summary:\n",
      " Lima orang mengalami luka bakar serius di sekujur tubuh akibat ledakan tabung gas di Kampung Kebalen, Kabupaten Bekasi, Jawa Barat, Sabtu(8/5).\n",
      "4.2. Prep Clean Summary:\n",
      " lima orang mengalami luka bakar serius di sekujur tubuh akibat ledakan tabung gas di kampung kebalen kabupaten bekasi jawa barat sabtu\n",
      "5.1. Extractive Summary:\n",
      " Liputan6.com, Bekasi: Lima orang mengalami luka bakar serius di sekujur tubuh akibat edakan tabung gas di Kampung Kebalen, Kabupaten Bekasi, Jawa Barat, Sabtu(8/5).(ARI).\n",
      "5.2. Prep Extractive Summary:\n",
      " lima orang mengalami luka bakar serius di sekujur tubuh akibat edakan tabung gas di kampung kebalen kabupaten bekasi jawa barat sabtu\n",
      "----------------------------------------------------------------------------------------------------\n",
      "1. Index: 62186\n",
      "2. Url:\n",
      " https://www.liputan6.com/news/read/189640/puluhan-toko-di-minahasa-terbakar\n",
      "3.1. Clean Article:\n",
      " Liputan6.com, Minahasa: Puluhan toko di pusat Kota Tondano, Minahasa, Sulawesi Utara, Ahad(18/5), terbakar. Tidak diketahui pasti darimana datangnya si jago merah. Tiupan angin yang kencang mempercepat nyala api hingga menjalar dan membakar puluhan toko lainnya. Warga sekitar pun tidak bisa berbuat banyak untuk memadamkan api. Api baru bisa dikendalikan setelah dua unit mobil kendaraan pemadam kebakaran tiba dilokasi. Tidak ada korban jiwa dalam kebakaran ini, namun kerugian materi diperkirakan mencapai miliaran rupiah. Polisi sampai saat ini masih menyelidiki penyebab kebakaran.(BOG/Aldrin Arief).\n",
      "3.2. Prep Clean Article:\n",
      " puluhan toko di pusat kota tondano minahasa sulawesi utara ahad terbakar tidak diketahui pasti darimana datangnya si jago merah tiupan angin yang kencang mempercepat nyala api hingga menjalar dan membakar puluhan toko lainnya warga sekitar pun tidak bisa berbuat banyak untuk memadamkan api api baru bisa dikendalikan setelah dua unit mobil kendaraan pemadam kebakaran tiba dilokasi tidak ada korban jiwa dalam kebakaran ini namun kerugian materi diperkirakan mencapai miliaran rupiah polisi sampai saat ini masih menyelidiki penyebab kebakaran\n",
      "3.3. Prep Clean Article No Stopwords:\n",
      " puluhan toko pusat kota tondano minahasa sulawesi utara ahad terbakar darimana datangnya si jago merah tiupan angin kencang mempercepat nyala api menjalar membakar puluhan toko warga berbuat memadamkan api api dikendalikan unit mobil kendaraan pemadam kebakaran dilokasi korban jiwa kebakaran kerugian materi mencapai miliaran rupiah polisi menyelidiki penyebab kebakaran\n",
      "4.1. Clean Summary:\n",
      " Puluhan toko di pusat Kota, Tondano, Minahasa, Sulut, terbakar. Tidak ada korban jiwa dalam peristiwa itu, namun kerugian materi diperkirakan mencapai miliaran rupiah. Polisi masih menyelidiki penyebab kebakaran.\n",
      "4.2. Prep Clean Summary:\n",
      " puluhan toko di pusat kota tondano minahasa sulut terbakar tidak ada korban jiwa dalam peristiwa itu namun kerugian materi diperkirakan mencapai miliaran rupiah polisi masih menyelidiki penyebab kebakaran\n",
      "5.1. Extractive Summary:\n",
      " Liputan6.com, Minahasa: Puluhan toko di pusat Kota Tondano, Minahasa, Sulawesi Utara, Ahad(18/5), terbakar. Tidak ada korban jiwa dalam kebakaran ini, namun kerugian materi diperkirakan mencapai miliaran rupiah.\n",
      "5.2. Prep Extractive Summary:\n",
      " puluhan toko di pusat kota tondano minahasa sulawesi utara ahad terbakar tidak ada korban jiwa dalam kebakaran ini namun kerugian materi diperkirakan mencapai miliaran rupiah\n",
      "----------------------------------------------------------------------------------------------------\n",
      "1. Index: 53576\n",
      "2. Url:\n",
      " https://www.liputan6.com/news/read/175861/ditemukan-tulang-belulang-gajah-purba\n",
      "3.1. Clean Article:\n",
      " Liputan6.com, Blora: Fosil tulang-belulang binatang purba ditemukan di Desa Medalem, Kradenan, Blora, Jawa Tengah, baru-baru ini. Beberapa bagian tubuh ditemukan. Seperti kepala, tulang kaki, dan beberapa bagian lain yang masih diteliti. Menurut peneliti geologi, binatang ini masuk dalam spesies elephant hisudin atau mirip gajah sumatra. Diperkirakan, binatang ini hidup di zaman prasejarah. Temuan kali ini dinilai terlengkap dan utuh. Temuan ini menambah daftar catatan baru. Di wilayah ini, beberapa bulan lalu, juga ditemukan fosil gading gajah purba. Namun, keadaan retak-retak. Selain fosil-fosil gajah purba, juga pernah ditemukan fosil-fosil lain. Yang paling menarik adalah fosil daun yang menempel pada batu atau lapisan tanah [baca: Petani Blora Temukan Fosil Gajah Purbakala]. Para ahli geologi Departemen ESDM dan Museum Geologi Bandung tengah intensif mengkaji dan menghubungkan sejarah daerah Blora dengan temuan pra sejarah lainnya.(BOG/Yudi Utomo).\n",
      "3.2. Prep Clean Article:\n",
      " fosil tulangbelulang binatang purba ditemukan di desa medalem kradenan blora jawa tengah barubaru ini beberapa bagian tubuh ditemukan seperti kepala tulang kaki dan beberapa bagian lain yang masih diteliti menurut peneliti geologi binatang ini masuk dalam spesies elephant hisudin atau mirip gajah sumatra diperkirakan binatang ini hidup di zaman prasejarah temuan kali ini dinilai terlengkap dan utuh temuan ini menambah daftar catatan baru di wilayah ini beberapa bulan lalu juga ditemukan fosil gading gajah purba namun keadaan retakretak selain fosilfosil gajah purba juga pernah ditemukan fosilfosil lain yang paling menarik adalah fosil daun yang menempel pada batu atau lapisan tanah para ahli geologi departemen esdm dan museum geologi bandung tengah intensif mengkaji dan menghubungkan sejarah daerah blora dengan temuan pra sejarah lainnya\n",
      "3.3. Prep Clean Article No Stopwords:\n",
      " fosil tulangbelulang binatang purba ditemukan desa medalem kradenan blora jawa barubaru tubuh ditemukan kepala tulang kaki diteliti peneliti geologi binatang masuk spesies elephant hisudin gajah sumatra binatang hidup zaman prasejarah temuan kali dinilai terlengkap utuh temuan menambah daftar catatan wilayah ditemukan fosil gading gajah purba retakretak fosilfosil gajah purba ditemukan fosilfosil menarik fosil daun menempel batu lapisan tanah ahli geologi departemen esdm museum geologi bandung intensif mengkaji menghubungkan sejarah daerah blora temuan pra sejarah\n",
      "4.1. Clean Summary:\n",
      " Fosil tulang-belulang gajah purba ditemukan di Blora, Jateng. Para ahli penggalian fosil memperkirakan binatang ini hidup di zaman prasejarah.\n",
      "4.2. Prep Clean Summary:\n",
      " fosil tulangbelulang gajah purba ditemukan di blora jateng para ahli penggalian fosil memperkirakan binatang ini hidup di zaman prasejarah\n",
      "5.1. Extractive Summary:\n",
      " Diperkirakan, binatang ini hidup di zaman prasejarah. Di wilayah ini, beberapa bulan lalu, juga ditemukan fosil gading gajah purba.\n",
      "5.2. Prep Extractive Summary:\n",
      " diperkirakan binatang ini hidup di zaman prasejarah di wilayah ini beberapa bulan lalu juga ditemukan fosil gading gajah purba\n",
      "----------------------------------------------------------------------------------------------------\n",
      "1. Index: 14317\n",
      "2. Url:\n",
      " https://www.liputan6.com/news/read/122295/intisari-liputan-6-pagi\n",
      "3.1. Clean Article:\n",
      " Mantan Presiden Soeharto Mengalami Pendarahan Usus Liputan6.com, Jakarta: Mantan Presiden Soeharto, Kamis(4/5) malam, kembali dirawat di Rumah Sakit Pusat Pertamina, Kebayoran Baru, Jakarta Selatan. Soeharto diketahui mengalami pendarahan usus dan kadar hemoglobin(Hb) menurun sampai 7, 8 gram per desiliter [baca: Soeharto Sakit Lagi]. FBR Menuntut RUU APP Segera Disahkan Jakarta: Forum Betawi Rempug(FBR) menginginkan agar Rancangan Undang-undang Antipornografi dan Pornoaksi(RUU APP) secepatnya disahkan. Mereka khawatir moral generasi muda akan rusak jika dibiarkan berlarut-larut. FBR juga khawatir moral generasi muda akan menurun karena goyang dangdut, khususnya goyang ngebor Inul Daratista [baca: FBR Mendukung RUU APP]. Gunung Merapi Dipastikan Akan Meletus Yogyakarta: Balai Penyelidikan dan Pengembangan Teknologi Kegunungapian(BPPTK) Yogyakarta memastikan, Gunung Merapi akan meletus. Sebab, mereka melihat adanya titik api diam di puncak. Perkembangan itu lantas mendorong warga di sejumlah desa di Kecamatan Cepogo, Kabupaten Boyolali, Jawa Tengah, meminta segera dievakuasi. Mereka khawatir sejak dua hari terakhir mencium bau belerang yang dianggap sebagai pertanda Merapi bakal meletus [baca: Warga Desa Myiran Meminta Segera Dievakuasi]. Omay K. Wiraatmadja Ditahan Jakarta: Direktur Utama PT Pupuk Kalimantan Timur(Pupuk Kaltim) Omay K. Wiraatmadja resmi ditahan di Markas Besar Polri. Omay terbukti terlibat dalam dugaan korupsi penjualan pupuk bersubsidi. Penahanan tersangka diutarakan Kepala Polri Jenderal Polisi Sutanto di sela-sela menghadiri rapat koordinasi politik dan keamanan di Jakarta [baca: Dirut PT Pupuk Kaltim Ditahan]. Sutanto menambahkan, Omay juga terbukti terlibat penggelembungan harga pengadaan fasilitas untuk direksi. Jumlah kerugian negara dalam dugaan korupsi ini mencapai Rp 10 miliar. Dengan penahanan ini sudah ada dua dirut badan usaha milik negara(BUMN) yang ditahan. Rabu kemarin, Dirut Perusahaan Listrik Negara Eddie Widiono ditahan. Eddie terkait dugaan kasus korupsi di BUMN.(AIS/Tim Liputan 6 SCTV).\n",
      "3.2. Prep Clean Article:\n",
      " mantan presiden soeharto mengalami pendarahan usus liputan6com jakarta mantan presiden soeharto kamis malam kembali dirawat di rumah sakit pusat pertamina kebayoran baru jakarta selatan soeharto diketahui mengalami pendarahan usus dan kadar hemoglobin menurun sampai 7 8 gram per desiliter fbr menuntut ruu app segera disahkan jakarta forum betawi rempug menginginkan agar rancangan undangundang antipornografi dan pornoaksi secepatnya disahkan mereka khawatir moral generasi muda akan rusak jika dibiarkan berlarutlarut fbr juga khawatir moral generasi muda akan menurun karena goyang dangdut khususnya goyang ngebor inul daratista gunung merapi dipastikan akan meletus yogyakarta balai penyelidikan dan pengembangan teknologi kegunungapian yogyakarta memastikan gunung merapi akan meletus sebab mereka melihat adanya titik api diam di puncak perkembangan itu lantas mendorong warga di sejumlah desa di kecamatan cepogo kabupaten boyolali jawa tengah meminta segera dievakuasi mereka khawatir sejak dua hari terakhir mencium bau belerang yang dianggap sebagai pertanda merapi bakal meletus omay k wiraatmadja ditahan jakarta direktur utama pt pupuk kalimantan timur omay k wiraatmadja resmi ditahan di markas besar polri omay terbukti terlibat dalam dugaan korupsi penjualan pupuk bersubsidi penahanan tersangka diutarakan kepala polri jenderal polisi sutanto di selasela menghadiri rapat koordinasi politik dan keamanan di jakarta sutanto menambahkan omay juga terbukti terlibat penggelembungan harga pengadaan fasilitas untuk direksi jumlah kerugian negara dalam dugaan korupsi ini mencapai rp 10 miliar dengan penahanan ini sudah ada dua dirut badan usaha milik negara yang ditahan rabu kemarin dirut perusahaan listrik negara eddie widiono ditahan eddie terkait dugaan kasus korupsi di bumn\n",
      "3.3. Prep Clean Article No Stopwords:\n",
      " mantan presiden soeharto mengalami pendarahan usus liputan6com jakarta mantan presiden soeharto kamis malam dirawat rumah sakit pusat pertamina kebayoran jakarta selatan soeharto mengalami pendarahan usus kadar hemoglobin menurun 7 8 gram desiliter fbr menuntut ruu app disahkan jakarta forum betawi rempug rancangan undangundang antipornografi pornoaksi secepatnya disahkan khawatir moral generasi muda rusak dibiarkan berlarutlarut fbr khawatir moral generasi muda menurun goyang dangdut goyang ngebor inul daratista gunung merapi meletus yogyakarta balai penyelidikan pengembangan teknologi kegunungapian yogyakarta gunung merapi meletus titik api diam puncak perkembangan lantas mendorong warga desa kecamatan cepogo kabupaten boyolali jawa dievakuasi khawatir mencium bau belerang dianggap pertanda merapi meletus omay k wiraatmadja ditahan jakarta direktur utama pt pupuk kalimantan timur omay k wiraatmadja resmi ditahan markas polri omay terbukti terlibat dugaan korupsi penjualan pupuk bersubsidi penahanan tersangka diutarakan kepala polri jenderal polisi sutanto selasela menghadiri rapat koordinasi politik keamanan jakarta sutanto omay terbukti terlibat penggelembungan harga pengadaan fasilitas direksi kerugian negara dugaan korupsi mencapai rp 10 miliar penahanan dirut badan usaha milik negara ditahan rabu kemarin dirut perusahaan listrik negara eddie widiono ditahan eddie terkait dugaan korupsi bumn\n",
      "4.1. Clean Summary:\n",
      " Mantan Presiden Soeharto dirawat di RSUP Pertamina akibat mengalami pendarahan usus dan kadar hemoglobin(Hb) menurun. Sementara massa FBR menuntut agar RUU APP segera disahkan.\n",
      "4.2. Prep Clean Summary:\n",
      " mantan presiden soeharto dirawat di rsup pertamina akibat mengalami pendarahan usus dan kadar hemoglobin menurun sementara massa fbr menuntut agar ruu app segera disahkan\n",
      "5.1. Extractive Summary:\n",
      " Soeharto diketahui mengalami pendarahan usus dan kadar hemoglobin(Hb) menurun sampai 7, 8 gram per desiliter [baca: Soeharto Sakit Lagi]. FBR Menuntut RUU APP Segera Disahkan Jakarta: Forum Betawi Rempug(FBR) menginginkan agar Rancangan Undang-undang Antipornografi dan Pornoaksi(RUU APP) secepatnya disahkan.\n",
      "5.2. Prep Extractive Summary:\n",
      " soeharto diketahui mengalami pendarahan usus dan kadar hemoglobin menurun sampai 7 8 gram per desiliter fbr menuntut ruu app segera disahkan jakarta forum betawi rempug menginginkan agar rancangan undangundang antipornografi dan pornoaksi secepatnya disahkan\n",
      "----------------------------------------------------------------------------------------------------\n",
      "1. Index: 27049\n",
      "2. Url:\n",
      " https://www.liputan6.com/news/read/139947/satu-keluarga-ditemukan-tewas\n",
      "3.1. Clean Article:\n",
      " Liputan6.com, Kendari: Warga Kota Kendari, Sulawesi Tenggara, belum lama ini, dikejutkan kabar kematian satu keluarga di Jalan Lumba-lumba. Kepolisian Resor Kota kendari menemukan luka di kepala korban. Polisi juga menyita sebuah parang dengan bekas darah dan beberapa benda mencurigakan lain. Sejauh ini polisi belum bisa memastikan penyebab kematian keluarga Nadir Abola. Kematian satu keluarga itu terdiri dari Nadir Abola, Herlina sang istri, dan seorang anak berusia enam tahun. Mereka diduga tewas sejak beberapa hari silam. Nurmayati, tetangga korban terakhir kali melihat korban saat meminta kembali pacul yang dipinjam pada Selasa sore pekan silam. Keesokan harinya, Nurmayati melihat rumah korban tertutup rapat.(TOZ/Qodriansyah Sofyan).\n",
      "3.2. Prep Clean Article:\n",
      " warga kota kendari sulawesi tenggara belum lama ini dikejutkan kabar kematian satu keluarga di jalan lumbalumba kepolisian resor kota kendari menemukan luka di kepala korban polisi juga menyita sebuah parang dengan bekas darah dan beberapa benda mencurigakan lain sejauh ini polisi belum bisa memastikan penyebab kematian keluarga nadir abola kematian satu keluarga itu terdiri dari nadir abola herlina sang istri dan seorang anak berusia enam tahun mereka diduga tewas sejak beberapa hari silam nurmayati tetangga korban terakhir kali melihat korban saat meminta kembali pacul yang dipinjam pada selasa sore pekan silam keesokan harinya nurmayati melihat rumah korban tertutup rapat\n",
      "3.3. Prep Clean Article No Stopwords:\n",
      " warga kota kendari sulawesi tenggara dikejutkan kabar kematian keluarga jalan lumbalumba kepolisian resor kota kendari menemukan luka kepala korban polisi menyita parang bekas darah benda mencurigakan polisi penyebab kematian keluarga nadir abola kematian keluarga nadir abola herlina sang istri anak berusia enam diduga tewas silam nurmayati tetangga korban kali korban pacul dipinjam selasa sore pekan silam keesokan harinya nurmayati rumah korban tertutup rapat\n",
      "4.1. Clean Summary:\n",
      " Tiga anggota keluarga di Jalan Lumba-lumba, Kendari, Sultra, ditemukan tewas dengan luka di kepala. Polisi menyita sebuah parang dengan bekas darah dan beberapa benda mencurigakan lain.\n",
      "4.2. Prep Clean Summary:\n",
      " tiga anggota keluarga di jalan lumbalumba kendari sultra ditemukan tewas dengan luka di kepala polisi menyita sebuah parang dengan bekas darah dan beberapa benda mencurigakan lain\n",
      "5.1. Extractive Summary:\n",
      " Kepolisian Resor Kota kendari menemukan luka di kepala korban. Polisi juga menyita sebuah parang dengan bekas darah dan beberapa benda mencurigakan lain.\n",
      "5.2. Prep Extractive Summary:\n",
      " kepolisian resor kota kendari menemukan luka di kepala korban polisi juga menyita sebuah parang dengan bekas darah dan beberapa benda mencurigakan lain\n",
      "----------------------------------------------------------------------------------------------------\n",
      "1. Index: 157428\n",
      "2. Url:\n",
      " https://www.liputan6.com/news/read/39515/bangkai-ayam-diperjualbelikan-di-yogyakarta\n",
      "3.1. Clean Article:\n",
      " Liputan6.com, Yogyakarta: Pemerintah Kota Yogyakarta, Daerah Istimewa Yogyakarta, Ahad(12/8), menggelar operasi di sejumlah pasar tradisional, menyusul peredaran daging bangkai ayam yang marak. Menurut Kepala Subdinas Kehewanan Dinas Pertanian dan Peternakan Kota Yogyakarta Mahmud Asfan, bangkai bisa merugikan kesehatan konsumen. Selain itu, peredaran bangkai ayam ini juga menyebabkan harga daging ayam potong anjlok. Pasalnya, harga daging ayam bangkai jauh lebih murah, yaitu Rp 5 ribu per potong. Sedangkan harga daging ayam potong mencapai Rp 12 ribu per kilogram untuk ayam ras. Sebesar Rp 20 ribu per kilogram untuk ayam kampung. Menurut Mahmud, kasus tersebut terungkap dari kecurigaan petugas Dinas Pasar Beringharjo, Yogyakarta pada saat meninjau sebuah lokasi penjualan ayam hidup, Sabtu(10/8). Secara tidak sengaja, mereka memergoki transaksi yang mencurigakan, yaitu penjualan puluhan bangkai ayam. Mahmud menceritakan, awalnya, para pelaku mengaku bangkai ayam itu hendak digunakan untuk pakan ikan. Namun, mereka tidak bisa mengelak saat ditemukan sekitar lima karung bangkai ayam siap jual yang sudah dipotong-potong. Untuk mengelabui pembeli, daging ayam bangkai diberi pewarna kunir dan diawetkan dengan formalin.(ZAQ/Wiwik Susilo dan Mardianto).\n",
      "3.2. Prep Clean Article:\n",
      " pemerintah kota yogyakarta daerah istimewa yogyakarta ahad menggelar operasi di sejumlah pasar tradisional menyusul peredaran daging bangkai ayam yang marak menurut kepala subdinas kehewanan dinas pertanian dan peternakan kota yogyakarta mahmud asfan bangkai bisa merugikan kesehatan konsumen selain itu peredaran bangkai ayam ini juga menyebabkan harga daging ayam potong anjlok pasalnya harga daging ayam bangkai jauh lebih murah yaitu rp 5 ribu per potong sedangkan harga daging ayam potong mencapai rp 12 ribu per kilogram untuk ayam ras sebesar rp 20 ribu per kilogram untuk ayam kampung menurut mahmud kasus tersebut terungkap dari kecurigaan petugas dinas pasar beringharjo yogyakarta pada saat meninjau sebuah lokasi penjualan ayam hidup sabtu secara tidak sengaja mereka memergoki transaksi yang mencurigakan yaitu penjualan puluhan bangkai ayam mahmud menceritakan awalnya para pelaku mengaku bangkai ayam itu hendak digunakan untuk pakan ikan namun mereka tidak bisa mengelak saat ditemukan sekitar lima karung bangkai ayam siap jual yang sudah dipotongpotong untuk mengelabui pembeli daging ayam bangkai diberi pewarna kunir dan diawetkan dengan formalin\n",
      "3.3. Prep Clean Article No Stopwords:\n",
      " pemerintah kota yogyakarta daerah istimewa yogyakarta ahad menggelar operasi pasar tradisional menyusul peredaran daging bangkai ayam marak kepala subdinas kehewanan dinas pertanian peternakan kota yogyakarta mahmud asfan bangkai merugikan kesehatan konsumen peredaran bangkai ayam menyebabkan harga daging ayam potong anjlok pasalnya harga daging ayam bangkai murah rp 5 ribu potong harga daging ayam potong mencapai rp 12 ribu kilogram ayam ras rp 20 ribu kilogram ayam kampung mahmud terungkap kecurigaan petugas dinas pasar beringharjo yogyakarta meninjau lokasi penjualan ayam hidup sabtu sengaja memergoki transaksi mencurigakan penjualan puluhan bangkai ayam mahmud menceritakan pelaku mengaku bangkai ayam pakan ikan mengelak ditemukan karung bangkai ayam jual dipotongpotong mengelabui pembeli daging ayam bangkai pewarna kunir diawetkan formalin\n",
      "4.1. Clean Summary:\n",
      " Pemkot Yogyakarta membongkar peredaran daging bangkai ayam di pasar-pasar tradisional di Kota Gudeg itu. Dinas Pertanian dan Peternakan Yogyakarta menyita lima karung daging tersebut.\n",
      "4.2. Prep Clean Summary:\n",
      " pemkot yogyakarta membongkar peredaran daging bangkai ayam di pasarpasar tradisional di kota gudeg itu dinas pertanian dan peternakan yogyakarta menyita lima karung daging tersebut\n",
      "5.1. Extractive Summary:\n",
      " Menurut Kepala Subdinas Kehewanan Dinas Pertanian dan Peternakan Kota Yogyakarta Mahmud Asfan, bangkai bisa merugikan kesehatan konsumen. Selain itu, peredaran bangkai ayam ini juga menyebabkan harga daging ayam potong anjlok.\n",
      "5.2. Prep Extractive Summary:\n",
      " menurut kepala subdinas kehewanan dinas pertanian dan peternakan kota yogyakarta mahmud asfan bangkai bisa merugikan kesehatan konsumen selain itu peredaran bangkai ayam ini juga menyebabkan harga daging ayam potong anjlok\n",
      "----------------------------------------------------------------------------------------------------\n",
      "1. Index: 55033\n",
      "2. Url:\n",
      " https://www.liputan6.com/news/read/177714/tim-kampanye-gabungan-pdip-gerindra-terbentuk\n",
      "3.1. Clean Article:\n",
      " Liputan6.com, Jakarta: PDI-P dan Gerindra mengadakan rapat perdana tim kampanye di Jakarta, Sabtu(16/5). Mereka membahas cara memenangkan Megawati Soekarnoputri dan Prabowo Subianto sebagai presiden dan wakil presiden 2009. Agenda rapat kali ini lebih menekankan pada visi dan misi. Kedua partai itu juga berembuk strategi untuk kampanye gabungan nanti, termasuk penekanan pada isu ekonomi. Megawati dan Prabowo direncanakan mendatangi langsung wilayah lumbung suara partai masing-masing, baik dilakukan sendiri ataupun bersama. Demikian keterangan Sekretaris BP presiden PDI-P, Agnita Singkadikane.(OMI/Tim Liputan 6 SCTV).\n",
      "3.2. Prep Clean Article:\n",
      " pdip dan gerindra mengadakan rapat perdana tim kampanye di jakarta sabtu mereka membahas cara memenangkan megawati soekarnoputri dan prabowo subianto sebagai presiden dan wakil presiden 2009 agenda rapat kali ini lebih menekankan pada visi dan misi kedua partai itu juga berembuk strategi untuk kampanye gabungan nanti termasuk penekanan pada isu ekonomi megawati dan prabowo direncanakan mendatangi langsung wilayah lumbung suara partai masingmasing baik dilakukan sendiri ataupun bersama demikian keterangan sekretaris bp presiden pdip agnita singkadikane\n",
      "3.3. Prep Clean Article No Stopwords:\n",
      " pdip gerindra mengadakan rapat perdana tim kampanye jakarta sabtu membahas memenangkan megawati soekarnoputri prabowo subianto presiden wakil presiden 2009 agenda rapat kali menekankan visi misi partai berembuk strategi kampanye gabungan penekanan isu ekonomi megawati prabowo direncanakan langsung wilayah lumbung suara partai masingmasing keterangan sekretaris bp presiden pdip agnita singkadikane\n",
      "4.1. Clean Summary:\n",
      " PDIP dan Partai Gerindra membentuk tim kampanye gabungan untuk pemilihan presiden mendatang. Keduanya sepakat mengusung isu ekonomi pada kampanye nanti.\n",
      "4.2. Prep Clean Summary:\n",
      " pdip dan partai gerindra membentuk tim kampanye gabungan untuk pemilihan presiden mendatang keduanya sepakat mengusung isu ekonomi pada kampanye nanti\n",
      "5.1. Extractive Summary:\n",
      " Liputan6.com, Jakarta: PDI-P dan Gerindra mengadakan rapat perdana tim kampanye di Jakarta, Sabtu(16/5). Kedua partai itu juga berembuk strategi untuk kampanye gabungan nanti, termasuk penekanan pada isu ekonomi.\n",
      "5.2. Prep Extractive Summary:\n",
      " pdip dan gerindra mengadakan rapat perdana tim kampanye di jakarta sabtu kedua partai itu juga berembuk strategi untuk kampanye gabungan nanti termasuk penekanan pada isu ekonomi\n",
      "----------------------------------------------------------------------------------------------------\n",
      "1. Index: 156119\n",
      "2. Url:\n",
      " https://www.liputan6.com/news/read/37669/dpr-didesak-membentuk-kpu-daerah\n",
      "3.1. Clean Article:\n",
      " Liputan6.com, Jakarta: Komisi Pemilihan Umum mendesak DPR mengizinkan pembentukan KPU Daerah. Alasannya, KPU Daerah bisa mempercepat proses pendaftaran pemilih dan menyempurnakan proses Pemilu 2004. Permintaan itu terungkap dalam Rapat Kerja antara KPU dan Komisi II DPR di Gedung DPR/MPR, Jakarta, Kamis(11/7). Rapat tersebut membahas usulan rencana penyelenggaraan Pemilu 2004 yang disusun KPU. KPU berpandangan, pembentukan KPU Daerah mendesak mengingat waktu yang tersisa untuk mempersiapkan pemilu tinggal setahun. Jumlah KPU provinsi sebanyak 30. Sedangkan KPU kabupeten sebanyak 400. Untuk itu, DPR diminta segera mengesahkan Rancangan Undang-undang Pemilu yang dirumuskan secara detil menjadi undang-undang. Dengan begitu, UU itu dapat diterapkan di lapangan pada pemilu mendatang. KPU juga mengusulkan perpanjangan waktu persiapan pemilu, terutama mengenai verifikasi partai politik. Dalam usulannya, KPU membutuhkan waktu tiga sampai empat bulan untuk mendata parpol, verifikasi administratif, dan verifikasi substantif yang langsung dilakukan di daerah. Ini ditujukan untuk memperbaiki kelemahan pada Pemilu 1999 yang diberi waktu verifikasi hanya satu bulan.(DEN/Aryo Adi Prabowo dan Erwin Arif).\n",
      "3.2. Prep Clean Article:\n",
      " komisi pemilihan umum mendesak dpr mengizinkan pembentukan kpu daerah alasannya kpu daerah bisa mempercepat proses pendaftaran pemilih dan menyempurnakan proses pemilu 2004 permintaan itu terungkap dalam rapat kerja antara kpu dan komisi ii dpr di gedung dprmpr jakarta kamis rapat tersebut membahas usulan rencana penyelenggaraan pemilu 2004 yang disusun kpu kpu berpandangan pembentukan kpu daerah mendesak mengingat waktu yang tersisa untuk mempersiapkan pemilu tinggal setahun jumlah kpu provinsi sebanyak 30 sedangkan kpu kabupeten sebanyak 400 untuk itu dpr diminta segera mengesahkan rancangan undangundang pemilu yang dirumuskan secara detil menjadi undangundang dengan begitu uu itu dapat diterapkan di lapangan pada pemilu mendatang kpu juga mengusulkan perpanjangan waktu persiapan pemilu terutama mengenai verifikasi partai politik dalam usulannya kpu membutuhkan waktu tiga sampai empat bulan untuk mendata parpol verifikasi administratif dan verifikasi substantif yang langsung dilakukan di daerah ini ditujukan untuk memperbaiki kelemahan pada pemilu 1999 yang diberi waktu verifikasi hanya satu bulan\n",
      "3.3. Prep Clean Article No Stopwords:\n",
      " komisi pemilihan mendesak dpr mengizinkan pembentukan kpu daerah alasannya kpu daerah mempercepat proses pendaftaran pemilih menyempurnakan proses pemilu 2004 permintaan terungkap rapat kerja kpu komisi ii dpr gedung dprmpr jakarta kamis rapat membahas usulan rencana penyelenggaraan pemilu 2004 disusun kpu kpu berpandangan pembentukan kpu daerah mendesak tersisa pemilu tinggal setahun kpu provinsi 30 kpu kabupeten 400 dpr mengesahkan rancangan undangundang pemilu dirumuskan detil undangundang uu diterapkan lapangan pemilu kpu mengusulkan perpanjangan persiapan pemilu verifikasi partai politik usulannya kpu membutuhkan mendata parpol verifikasi administratif verifikasi substantif langsung daerah memperbaiki kelemahan pemilu 1999 verifikasi\n",
      "4.1. Clean Summary:\n",
      " Pembentukan KPU Daerah dinilai mendesak mengingat waktu yang tersisa hanya satu setengah tahun. KPU mendesak DPR segera membentuk KPU Daerah.\n",
      "4.2. Prep Clean Summary:\n",
      " pembentukan kpu daerah dinilai mendesak mengingat waktu yang tersisa hanya satu setengah tahun kpu mendesak dpr segera membentuk kpu daerah\n",
      "5.1. Extractive Summary:\n",
      " Liputan6.com, Jakarta: Komisi Pemilihan Umum mendesak DPR mengizinkan pembentukan KPU Daerah. KPU berpandangan, pembentukan KPU Daerah mendesak mengingat waktu yang tersisa untuk mempersiapkan pemilu tinggal setahun.\n",
      "5.2. Prep Extractive Summary:\n",
      " komisi pemilihan umum mendesak dpr mengizinkan pembentukan kpu daerah kpu berpandangan pembentukan kpu daerah mendesak mengingat waktu yang tersisa untuk mempersiapkan pemilu tinggal setahun\n",
      "----------------------------------------------------------------------------------------------------\n",
      "1. Index: 4908\n",
      "2. Url:\n",
      " https://www.liputan6.com/news/read/107987/dirut-pt-pos-diganti\n",
      "3.1. Clean Article:\n",
      " Liputan6.com, Jakarta: Hana Suryana dilantik sebagai Direktur Utama PT Pos yang baru menggantikan Alinafiah yang kini menjadi Komisaris Utama. Pelantikan yang dipimpin Sekretaris Menteri Negara Badan Usaha Milik Negara Said Didu ini digelar di Gedung PT Pos Indonesia, Jakarta Pusat, Jumat(26/8). Menurut mantan Kepala Wilayah Usaha Pos 4 Jabotabek, selaku dirut yang baru, pihaknya saat ini belum merencanakan pengurangan karyawan. Tapi, dalam waktu dekat akan ada restrukturisasi. Namun, pada 2003, sekitar 1. 400 karyawan dari 24 ribu karyawan PT Pos di seluruh Indonesia telah dipensiunkan. Hana menambahkan, pihaknya saat ini masih menunggu bantuan dari pemerintah sebesar Rp 113 miliar. Ini diperlukan untuk menutup kerugian yang diderita PT Pos. Maklum, hingga Agustus 2005, PT Pos merugi sebesar Rp 69 miliar. Kerugian ini diduga karena kalah bersaing dengan teknologi baru seperti email dan short messaging service(SMS). Namun, hingga kini pemerintah baru menganggarkan 50 miliar per tahun untuk menutupi kerugian tersebut.(IAN/Winny Arnold dan Yon Helfi).\n",
      "3.2. Prep Clean Article:\n",
      " hana suryana dilantik sebagai direktur utama pt pos yang baru menggantikan alinafiah yang kini menjadi komisaris utama pelantikan yang dipimpin sekretaris menteri negara badan usaha milik negara said didu ini digelar di gedung pt pos indonesia jakarta pusat jumat menurut mantan kepala wilayah usaha pos 4 jabotabek selaku dirut yang baru pihaknya saat ini belum merencanakan pengurangan karyawan tapi dalam waktu dekat akan ada restrukturisasi namun pada 2003 sekitar 1 400 karyawan dari 24 ribu karyawan pt pos di seluruh indonesia telah dipensiunkan hana menambahkan pihaknya saat ini masih menunggu bantuan dari pemerintah sebesar rp 113 miliar ini diperlukan untuk menutup kerugian yang diderita pt pos maklum hingga agustus 2005 pt pos merugi sebesar rp 69 miliar kerugian ini diduga karena kalah bersaing dengan teknologi baru seperti email dan short messaging service namun hingga kini pemerintah baru menganggarkan 50 miliar per tahun untuk menutupi kerugian tersebut\n",
      "3.3. Prep Clean Article No Stopwords:\n",
      " hana suryana dilantik direktur utama pt pos menggantikan alinafiah komisaris utama pelantikan dipimpin sekretaris menteri negara badan usaha milik negara said didu digelar gedung pt pos indonesia jakarta pusat jumat mantan kepala wilayah usaha pos 4 jabotabek dirut merencanakan pengurangan karyawan restrukturisasi 2003 1 400 karyawan 24 ribu karyawan pt pos indonesia dipensiunkan hana menunggu bantuan pemerintah rp 113 miliar menutup kerugian diderita pt pos maklum agustus 2005 pt pos merugi rp 69 miliar kerugian diduga kalah bersaing teknologi email short messaging service pemerintah menganggarkan 50 miliar menutupi kerugian\n",
      "4.1. Clean Summary:\n",
      " Jabatan Direktur Utama PT Pos diserahterimakan dari pejabat lama Alinafiah ke Hanna Suryana. Pergantian dilakukan karena masa jabatan direksi lama di perusahaan negara ini sudah berakhir.\n",
      "4.2. Prep Clean Summary:\n",
      " jabatan direktur utama pt pos diserahterimakan dari pejabat lama alinafiah ke hanna suryana pergantian dilakukan karena masa jabatan direksi lama di perusahaan negara ini sudah berakhir\n",
      "5.1. Extractive Summary:\n",
      " Liputan6.com, Jakarta: Hana Suryana dilantik sebagai Direktur Utama PT Pos yang baru menggantikan Alinafiah yang kini menjadi Komisaris Utama. Hana menambahkan, pihaknya saat ini masih menunggu bantuan dari pemerintah sebesar Rp 113 miliar.\n",
      "5.2. Prep Extractive Summary:\n",
      " hana suryana dilantik sebagai direktur utama pt pos yang baru menggantikan alinafiah yang kini menjadi komisaris utama hana menambahkan pihaknya saat ini masih menunggu bantuan dari pemerintah sebesar rp 113 miliar\n",
      "----------------------------------------------------------------------------------------------------\n",
      "1. Index: 18133\n",
      "2. Url:\n",
      " https://www.liputan6.com/news/read/127824/presiden-mengajak-rakyat-optimistis-menghadapi-masa-depan\n",
      "3.1. Clean Article:\n",
      " Liputan6.com, Medan: Presiden Susilo Bambang Yudhoyono mengingatkan, masyarakat Indonesia tidak pesimistis dan putus asa menghadapi berbagai kesulitan dalam menghadapi masa depan. Sebab, agama Islam tidak mengajarkan umatnya pesimistis dan putus asa. Presiden meyakini Allah SWT akan memberi rahmat seperti juga saat Nabi Muhammad SAW mengalami peristiwa Isra Miraj yang penuh tantangan. Ajakan tersebut disampaikan Yudhoyono pada peringatan Isra Miraj 1427 Hijriah di Stadion Teladan, Medan, Sumatra Utara, Senin(21/8) malam. Masih dalam sambutannya, Presiden juga mengajak seluruh umat beragama di Indonesia bersama-sama membangun negara dan bangsa. Hasil perjuangan yang sudah ditorehkan para pejuang harus tetap dilestarikan dan dikembangkan. Adapun sebelum Presiden berpidato, peringatan Isra Miraj didahului uraian makna Isra Miraj oleh Rektor Institut Agama Islam Negeri Sumatra Utara H. M. Yasir Nasution dan sepatah kata dari Menteri Agama Maftuh Basyuni. Kehadiran Presiden didampingi jajaran Kabinet Indonesia Bersatu dan sejumlah duta besar negara sahabat menyedot perhatian warga Medan. Sejak pagi, puluhan ribu orang sudah memadati Stadion Teladan yang hanya berkapasitas 30 ribu. Warga yang tidak bisa masuk akhirnya memilih pulang ke rumah.(KEN/Chaerul Dharma).\n",
      "3.2. Prep Clean Article:\n",
      " presiden susilo bambang yudhoyono mengingatkan masyarakat indonesia tidak pesimistis dan putus asa menghadapi berbagai kesulitan dalam menghadapi masa depan sebab agama islam tidak mengajarkan umatnya pesimistis dan putus asa presiden meyakini allah swt akan memberi rahmat seperti juga saat nabi muhammad saw mengalami peristiwa isra miraj yang penuh tantangan ajakan tersebut disampaikan yudhoyono pada peringatan isra miraj 1427 hijriah di stadion teladan medan sumatra utara senin malam masih dalam sambutannya presiden juga mengajak seluruh umat beragama di indonesia bersamasama membangun negara dan bangsa hasil perjuangan yang sudah ditorehkan para pejuang harus tetap dilestarikan dan dikembangkan adapun sebelum presiden berpidato peringatan isra miraj didahului uraian makna isra miraj oleh rektor institut agama islam negeri sumatra utara h m yasir nasution dan sepatah kata dari menteri agama maftuh basyuni kehadiran presiden didampingi jajaran kabinet indonesia bersatu dan sejumlah duta besar negara sahabat menyedot perhatian warga medan sejak pagi puluhan ribu orang sudah memadati stadion teladan yang hanya berkapasitas 30 ribu warga yang tidak bisa masuk akhirnya memilih pulang ke rumah\n",
      "3.3. Prep Clean Article No Stopwords:\n",
      " presiden susilo bambang yudhoyono masyarakat indonesia pesimistis putus asa menghadapi kesulitan menghadapi agama islam mengajarkan umatnya pesimistis putus asa presiden allah swt rahmat nabi muhammad saw mengalami peristiwa isra miraj penuh tantangan ajakan yudhoyono peringatan isra miraj 1427 hijriah stadion teladan medan sumatra utara senin malam sambutannya presiden mengajak umat beragama indonesia bersamasama membangun negara bangsa hasil perjuangan ditorehkan pejuang dilestarikan dikembangkan presiden berpidato peringatan isra miraj didahului uraian makna isra miraj rektor institut agama islam negeri sumatra utara h m yasir nasution sepatah menteri agama maftuh basyuni kehadiran presiden didampingi jajaran kabinet indonesia bersatu duta negara sahabat menyedot perhatian warga medan pagi puluhan ribu orang memadati stadion teladan berkapasitas 30 ribu warga masuk memilih pulang rumah\n",
      "4.1. Clean Summary:\n",
      " Presiden Yudhoyono mengajak masyarakat tetap semangat menghadapi masa depan karena agama tidak mengajarkan umatnya pesimistis. Presiden menyampaikan ajakan tersebut pada peringatan Isra Miraj 1427 Hijriah di Medan.\n",
      "4.2. Prep Clean Summary:\n",
      " presiden yudhoyono mengajak masyarakat tetap semangat menghadapi masa depan karena agama tidak mengajarkan umatnya pesimistis presiden menyampaikan ajakan tersebut pada peringatan isra miraj 1427 hijriah di medan\n",
      "5.1. Extractive Summary:\n",
      " Sebab, agama Islam tidak mengajarkan umatnya pesimistis dan putus asa. Ajakan tersebut disampaikan Yudhoyono pada peringatan Isra Miraj 1427 Hijriah di Stadion Teladan, Medan, Sumatra Utara, Senin(21/8) malam.\n",
      "5.2. Prep Extractive Summary:\n",
      " sebab agama islam tidak mengajarkan umatnya pesimistis dan putus asa ajakan tersebut disampaikan yudhoyono pada peringatan isra miraj 1427 hijriah di stadion teladan medan sumatra utara senin malam\n",
      "----------------------------------------------------------------------------------------------------\n"
     ]
    }
   ],
   "source": [
    "random_sample = df_used.sample(n=10, random_state=1)  # random_state untuk konsistensi hasil\n",
    "for index, row in random_sample.iterrows():\n",
    "    print(f\"1. Index: {index}\")\n",
    "    print(f\"2. Url:\\n {row['url']}\")\n",
    "    \n",
    "    print(f\"3.1. Clean Article:\\n {row['ext_clean_article']}\")\n",
    "    print(f\"3.2. Prep Clean Article:\\n {row['prep_clean_article']}\")\n",
    "    print(f\"3.3. Prep Clean Article No Stopwords:\\n {row['prep_clean_article_no_sw']}\")\n",
    "    \n",
    "    print(f\"4.1. Clean Summary:\\n {row['ext_clean_summary']}\")\n",
    "    print(f\"4.2. Prep Clean Summary:\\n {row['prep_clean_summary']}\")\n",
    "    \n",
    "    print(f\"5.1. Extractive Summary:\\n {row['ext_extractive_summary']}\")\n",
    "    print(f\"5.2. Prep Extractive Summary:\\n {row['prep_extractive_summary']}\")\n",
    "    print(\"-\" * 100)  # Pembatas antar tweet"
   ],
   "metadata": {
    "collapsed": false,
    "ExecuteTime": {
     "end_time": "2024-10-08T02:59:40.143605700Z",
     "start_time": "2024-10-08T02:59:40.064809700Z"
    }
   },
   "id": "70d27777e4f0c22b"
  },
  {
   "cell_type": "code",
   "execution_count": 190,
   "outputs": [
    {
     "data": {
      "text/plain": "<Figure size 1000x600 with 1 Axes>",
      "image/png": "[encoded data removed]"
     },
     "metadata": {},
     "output_type": "display_data"
    }
   ],
   "source": [
    "from collections import Counter\n",
    "\n",
    "text = list(df_used['prep_clean_article_no_sw'])\n",
    "\n",
    "jumlah_rank = 10\n",
    "\n",
    "words = []\n",
    "for line in text:\n",
    "    words_in_line = line.split()\n",
    "    words.extend(words_in_line)\n",
    "\n",
    "words_count = Counter(words)\n",
    "most_common_words = words_count.most_common(jumlah_rank)\n",
    "most_common_df = pd.DataFrame(most_common_words, columns=['word', 'count'])\n",
    "total_words = sum(words_count.values())\n",
    "most_common_df['percentage'] = (most_common_df['count'] / total_words) * 100\n",
    "\n",
    "plt.figure(figsize=(10, 6))\n",
    "sns.barplot(x='count', y='word', data=most_common_df, palette='viridis', hue='word', dodge=False)\n",
    "\n",
    "for i in range(len(most_common_df)):\n",
    "    count = most_common_df['count'][i]\n",
    "    plt.text(count, i, f'{count}', color='black', va='center')\n",
    "\n",
    "plt.title(f'{jumlah_rank} Kata Paling Sering Muncul di Artikel')\n",
    "plt.xlabel('Frekuensi')\n",
    "plt.ylabel('Kata')\n",
    "plt.show()"
   ],
   "metadata": {
    "collapsed": false,
    "ExecuteTime": {
     "end_time": "2024-10-08T02:59:56.422465Z",
     "start_time": "2024-10-08T02:59:47.495586Z"
    }
   },
   "id": "f738e5a854a6971d"
  }
 ],
 "metadata": {
  "kernelspec": {
   "display_name": "Python 3",
   "language": "python",
   "name": "python3"
  },
  "language_info": {
   "codemirror_mode": {
    "name": "ipython",
    "version": 2
   },
   "file_extension": ".py",
   "mimetype": "text/x-python",
   "name": "python",
   "nbconvert_exporter": "python",
   "pygments_lexer": "ipython2",
   "version": "2.7.6"
  }
 },
 "nbformat": 4,
 "nbformat_minor": 5
}
